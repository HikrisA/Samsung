{
  "nbformat": 4,
  "nbformat_minor": 0,
  "metadata": {
    "colab": {
      "provenance": []
    },
    "kernelspec": {
      "name": "python3",
      "display_name": "Python 3"
    },
    "language_info": {
      "name": "python"
    }
  },
  "cells": [
    {
      "cell_type": "markdown",
      "source": [
        "Primero observamos las columnas que tiene el dataset, que tipo de variables son cuántas son nulas."
      ],
      "metadata": {
        "id": "5mp339YWlrDz"
      }
    },
    {
      "cell_type": "code",
      "source": [
        "import pandas as pd\n",
        "import numpy as np\n",
        "import seaborn as sns\n",
        "import matplotlib.pyplot as plt\n",
        "from sklearn.cluster import KMeans\n",
        "from sklearn.decomposition import PCA, NMF\n",
        "from sklearn.preprocessing import StandardScaler, LabelEncoder\n",
        "from sklearn.metrics import accuracy_score, confusion_matrix, ConfusionMatrixDisplay, classification_report\n",
        "from scipy.optimize import linear_sum_assignment"
      ],
      "metadata": {
        "id": "4OK1v0_oe9kX"
      },
      "execution_count": null,
      "outputs": []
    },
    {
      "cell_type": "code",
      "source": [
        "df = pd.read_csv(\"cancer patient data sets.csv\")\n",
        "\n",
        "df.info()"
      ],
      "metadata": {
        "colab": {
          "base_uri": "https://localhost:8080/"
        },
        "id": "aSSEuVG5W3tI",
        "outputId": "2570a9ed-11fe-46f9-fa55-988514218631"
      },
      "execution_count": null,
      "outputs": [
        {
          "output_type": "stream",
          "name": "stdout",
          "text": [
            "<class 'pandas.core.frame.DataFrame'>\n",
            "RangeIndex: 1000 entries, 0 to 999\n",
            "Data columns (total 26 columns):\n",
            " #   Column                    Non-Null Count  Dtype \n",
            "---  ------                    --------------  ----- \n",
            " 0   index                     1000 non-null   int64 \n",
            " 1   Patient Id                1000 non-null   object\n",
            " 2   Age                       1000 non-null   int64 \n",
            " 3   Gender                    1000 non-null   int64 \n",
            " 4   Air Pollution             1000 non-null   int64 \n",
            " 5   Alcohol use               1000 non-null   int64 \n",
            " 6   Dust Allergy              1000 non-null   int64 \n",
            " 7   OccuPational Hazards      1000 non-null   int64 \n",
            " 8   Genetic Risk              1000 non-null   int64 \n",
            " 9   chronic Lung Disease      1000 non-null   int64 \n",
            " 10  Balanced Diet             1000 non-null   int64 \n",
            " 11  Obesity                   1000 non-null   int64 \n",
            " 12  Smoking                   1000 non-null   int64 \n",
            " 13  Passive Smoker            1000 non-null   int64 \n",
            " 14  Chest Pain                1000 non-null   int64 \n",
            " 15  Coughing of Blood         1000 non-null   int64 \n",
            " 16  Fatigue                   1000 non-null   int64 \n",
            " 17  Weight Loss               1000 non-null   int64 \n",
            " 18  Shortness of Breath       1000 non-null   int64 \n",
            " 19  Wheezing                  1000 non-null   int64 \n",
            " 20  Swallowing Difficulty     1000 non-null   int64 \n",
            " 21  Clubbing of Finger Nails  1000 non-null   int64 \n",
            " 22  Frequent Cold             1000 non-null   int64 \n",
            " 23  Dry Cough                 1000 non-null   int64 \n",
            " 24  Snoring                   1000 non-null   int64 \n",
            " 25  Level                     1000 non-null   object\n",
            "dtypes: int64(24), object(2)\n",
            "memory usage: 203.3+ KB\n"
          ]
        }
      ]
    },
    {
      "cell_type": "markdown",
      "source": [
        "Analizamos los datos para saber cuáles son los valores mínimos y máximos que toman cada variable."
      ],
      "metadata": {
        "id": "cmF81C4emgVF"
      }
    },
    {
      "cell_type": "code",
      "source": [
        "df.describe()"
      ],
      "metadata": {
        "colab": {
          "base_uri": "https://localhost:8080/",
          "height": 384
        },
        "id": "96MGQAI9fYWD",
        "outputId": "ee7be2ba-f8a6-481b-ec4a-e2809f6729d2"
      },
      "execution_count": null,
      "outputs": [
        {
          "output_type": "execute_result",
          "data": {
            "text/plain": [
              "             index          Age       Gender  Air Pollution  Alcohol use  \\\n",
              "count  1000.000000  1000.000000  1000.000000      1000.0000  1000.000000   \n",
              "mean    499.500000    37.174000     1.402000         3.8400     4.563000   \n",
              "std     288.819436    12.005493     0.490547         2.0304     2.620477   \n",
              "min       0.000000    14.000000     1.000000         1.0000     1.000000   \n",
              "25%     249.750000    27.750000     1.000000         2.0000     2.000000   \n",
              "50%     499.500000    36.000000     1.000000         3.0000     5.000000   \n",
              "75%     749.250000    45.000000     2.000000         6.0000     7.000000   \n",
              "max     999.000000    73.000000     2.000000         8.0000     8.000000   \n",
              "\n",
              "       Dust Allergy  OccuPational Hazards  Genetic Risk  chronic Lung Disease  \\\n",
              "count   1000.000000           1000.000000   1000.000000           1000.000000   \n",
              "mean       5.165000              4.840000      4.580000              4.380000   \n",
              "std        1.980833              2.107805      2.126999              1.848518   \n",
              "min        1.000000              1.000000      1.000000              1.000000   \n",
              "25%        4.000000              3.000000      2.000000              3.000000   \n",
              "50%        6.000000              5.000000      5.000000              4.000000   \n",
              "75%        7.000000              7.000000      7.000000              6.000000   \n",
              "max        8.000000              8.000000      7.000000              7.000000   \n",
              "\n",
              "       Balanced Diet  ...  Coughing of Blood      Fatigue  Weight Loss  \\\n",
              "count    1000.000000  ...        1000.000000  1000.000000  1000.000000   \n",
              "mean        4.491000  ...           4.859000     3.856000     3.855000   \n",
              "std         2.135528  ...           2.427965     2.244616     2.206546   \n",
              "min         1.000000  ...           1.000000     1.000000     1.000000   \n",
              "25%         2.000000  ...           3.000000     2.000000     2.000000   \n",
              "50%         4.000000  ...           4.000000     3.000000     3.000000   \n",
              "75%         7.000000  ...           7.000000     5.000000     6.000000   \n",
              "max         7.000000  ...           9.000000     9.000000     8.000000   \n",
              "\n",
              "       Shortness of Breath     Wheezing  Swallowing Difficulty  \\\n",
              "count          1000.000000  1000.000000            1000.000000   \n",
              "mean              4.240000     3.777000               3.746000   \n",
              "std               2.285087     2.041921               2.270383   \n",
              "min               1.000000     1.000000               1.000000   \n",
              "25%               2.000000     2.000000               2.000000   \n",
              "50%               4.000000     4.000000               4.000000   \n",
              "75%               6.000000     5.000000               5.000000   \n",
              "max               9.000000     8.000000               8.000000   \n",
              "\n",
              "       Clubbing of Finger Nails  Frequent Cold    Dry Cough      Snoring  \n",
              "count               1000.000000    1000.000000  1000.000000  1000.000000  \n",
              "mean                   3.923000       3.536000     3.853000     2.926000  \n",
              "std                    2.388048       1.832502     2.039007     1.474686  \n",
              "min                    1.000000       1.000000     1.000000     1.000000  \n",
              "25%                    2.000000       2.000000     2.000000     2.000000  \n",
              "50%                    4.000000       3.000000     4.000000     3.000000  \n",
              "75%                    5.000000       5.000000     6.000000     4.000000  \n",
              "max                    9.000000       7.000000     7.000000     7.000000  \n",
              "\n",
              "[8 rows x 24 columns]"
            ],
            "text/html": [
              "\n",
              "  <div id=\"df-0813f2f9-a027-4893-910b-b1d44810708e\" class=\"colab-df-container\">\n",
              "    <div>\n",
              "<style scoped>\n",
              "    .dataframe tbody tr th:only-of-type {\n",
              "        vertical-align: middle;\n",
              "    }\n",
              "\n",
              "    .dataframe tbody tr th {\n",
              "        vertical-align: top;\n",
              "    }\n",
              "\n",
              "    .dataframe thead th {\n",
              "        text-align: right;\n",
              "    }\n",
              "</style>\n",
              "<table border=\"1\" class=\"dataframe\">\n",
              "  <thead>\n",
              "    <tr style=\"text-align: right;\">\n",
              "      <th></th>\n",
              "      <th>index</th>\n",
              "      <th>Age</th>\n",
              "      <th>Gender</th>\n",
              "      <th>Air Pollution</th>\n",
              "      <th>Alcohol use</th>\n",
              "      <th>Dust Allergy</th>\n",
              "      <th>OccuPational Hazards</th>\n",
              "      <th>Genetic Risk</th>\n",
              "      <th>chronic Lung Disease</th>\n",
              "      <th>Balanced Diet</th>\n",
              "      <th>...</th>\n",
              "      <th>Coughing of Blood</th>\n",
              "      <th>Fatigue</th>\n",
              "      <th>Weight Loss</th>\n",
              "      <th>Shortness of Breath</th>\n",
              "      <th>Wheezing</th>\n",
              "      <th>Swallowing Difficulty</th>\n",
              "      <th>Clubbing of Finger Nails</th>\n",
              "      <th>Frequent Cold</th>\n",
              "      <th>Dry Cough</th>\n",
              "      <th>Snoring</th>\n",
              "    </tr>\n",
              "  </thead>\n",
              "  <tbody>\n",
              "    <tr>\n",
              "      <th>count</th>\n",
              "      <td>1000.000000</td>\n",
              "      <td>1000.000000</td>\n",
              "      <td>1000.000000</td>\n",
              "      <td>1000.0000</td>\n",
              "      <td>1000.000000</td>\n",
              "      <td>1000.000000</td>\n",
              "      <td>1000.000000</td>\n",
              "      <td>1000.000000</td>\n",
              "      <td>1000.000000</td>\n",
              "      <td>1000.000000</td>\n",
              "      <td>...</td>\n",
              "      <td>1000.000000</td>\n",
              "      <td>1000.000000</td>\n",
              "      <td>1000.000000</td>\n",
              "      <td>1000.000000</td>\n",
              "      <td>1000.000000</td>\n",
              "      <td>1000.000000</td>\n",
              "      <td>1000.000000</td>\n",
              "      <td>1000.000000</td>\n",
              "      <td>1000.000000</td>\n",
              "      <td>1000.000000</td>\n",
              "    </tr>\n",
              "    <tr>\n",
              "      <th>mean</th>\n",
              "      <td>499.500000</td>\n",
              "      <td>37.174000</td>\n",
              "      <td>1.402000</td>\n",
              "      <td>3.8400</td>\n",
              "      <td>4.563000</td>\n",
              "      <td>5.165000</td>\n",
              "      <td>4.840000</td>\n",
              "      <td>4.580000</td>\n",
              "      <td>4.380000</td>\n",
              "      <td>4.491000</td>\n",
              "      <td>...</td>\n",
              "      <td>4.859000</td>\n",
              "      <td>3.856000</td>\n",
              "      <td>3.855000</td>\n",
              "      <td>4.240000</td>\n",
              "      <td>3.777000</td>\n",
              "      <td>3.746000</td>\n",
              "      <td>3.923000</td>\n",
              "      <td>3.536000</td>\n",
              "      <td>3.853000</td>\n",
              "      <td>2.926000</td>\n",
              "    </tr>\n",
              "    <tr>\n",
              "      <th>std</th>\n",
              "      <td>288.819436</td>\n",
              "      <td>12.005493</td>\n",
              "      <td>0.490547</td>\n",
              "      <td>2.0304</td>\n",
              "      <td>2.620477</td>\n",
              "      <td>1.980833</td>\n",
              "      <td>2.107805</td>\n",
              "      <td>2.126999</td>\n",
              "      <td>1.848518</td>\n",
              "      <td>2.135528</td>\n",
              "      <td>...</td>\n",
              "      <td>2.427965</td>\n",
              "      <td>2.244616</td>\n",
              "      <td>2.206546</td>\n",
              "      <td>2.285087</td>\n",
              "      <td>2.041921</td>\n",
              "      <td>2.270383</td>\n",
              "      <td>2.388048</td>\n",
              "      <td>1.832502</td>\n",
              "      <td>2.039007</td>\n",
              "      <td>1.474686</td>\n",
              "    </tr>\n",
              "    <tr>\n",
              "      <th>min</th>\n",
              "      <td>0.000000</td>\n",
              "      <td>14.000000</td>\n",
              "      <td>1.000000</td>\n",
              "      <td>1.0000</td>\n",
              "      <td>1.000000</td>\n",
              "      <td>1.000000</td>\n",
              "      <td>1.000000</td>\n",
              "      <td>1.000000</td>\n",
              "      <td>1.000000</td>\n",
              "      <td>1.000000</td>\n",
              "      <td>...</td>\n",
              "      <td>1.000000</td>\n",
              "      <td>1.000000</td>\n",
              "      <td>1.000000</td>\n",
              "      <td>1.000000</td>\n",
              "      <td>1.000000</td>\n",
              "      <td>1.000000</td>\n",
              "      <td>1.000000</td>\n",
              "      <td>1.000000</td>\n",
              "      <td>1.000000</td>\n",
              "      <td>1.000000</td>\n",
              "    </tr>\n",
              "    <tr>\n",
              "      <th>25%</th>\n",
              "      <td>249.750000</td>\n",
              "      <td>27.750000</td>\n",
              "      <td>1.000000</td>\n",
              "      <td>2.0000</td>\n",
              "      <td>2.000000</td>\n",
              "      <td>4.000000</td>\n",
              "      <td>3.000000</td>\n",
              "      <td>2.000000</td>\n",
              "      <td>3.000000</td>\n",
              "      <td>2.000000</td>\n",
              "      <td>...</td>\n",
              "      <td>3.000000</td>\n",
              "      <td>2.000000</td>\n",
              "      <td>2.000000</td>\n",
              "      <td>2.000000</td>\n",
              "      <td>2.000000</td>\n",
              "      <td>2.000000</td>\n",
              "      <td>2.000000</td>\n",
              "      <td>2.000000</td>\n",
              "      <td>2.000000</td>\n",
              "      <td>2.000000</td>\n",
              "    </tr>\n",
              "    <tr>\n",
              "      <th>50%</th>\n",
              "      <td>499.500000</td>\n",
              "      <td>36.000000</td>\n",
              "      <td>1.000000</td>\n",
              "      <td>3.0000</td>\n",
              "      <td>5.000000</td>\n",
              "      <td>6.000000</td>\n",
              "      <td>5.000000</td>\n",
              "      <td>5.000000</td>\n",
              "      <td>4.000000</td>\n",
              "      <td>4.000000</td>\n",
              "      <td>...</td>\n",
              "      <td>4.000000</td>\n",
              "      <td>3.000000</td>\n",
              "      <td>3.000000</td>\n",
              "      <td>4.000000</td>\n",
              "      <td>4.000000</td>\n",
              "      <td>4.000000</td>\n",
              "      <td>4.000000</td>\n",
              "      <td>3.000000</td>\n",
              "      <td>4.000000</td>\n",
              "      <td>3.000000</td>\n",
              "    </tr>\n",
              "    <tr>\n",
              "      <th>75%</th>\n",
              "      <td>749.250000</td>\n",
              "      <td>45.000000</td>\n",
              "      <td>2.000000</td>\n",
              "      <td>6.0000</td>\n",
              "      <td>7.000000</td>\n",
              "      <td>7.000000</td>\n",
              "      <td>7.000000</td>\n",
              "      <td>7.000000</td>\n",
              "      <td>6.000000</td>\n",
              "      <td>7.000000</td>\n",
              "      <td>...</td>\n",
              "      <td>7.000000</td>\n",
              "      <td>5.000000</td>\n",
              "      <td>6.000000</td>\n",
              "      <td>6.000000</td>\n",
              "      <td>5.000000</td>\n",
              "      <td>5.000000</td>\n",
              "      <td>5.000000</td>\n",
              "      <td>5.000000</td>\n",
              "      <td>6.000000</td>\n",
              "      <td>4.000000</td>\n",
              "    </tr>\n",
              "    <tr>\n",
              "      <th>max</th>\n",
              "      <td>999.000000</td>\n",
              "      <td>73.000000</td>\n",
              "      <td>2.000000</td>\n",
              "      <td>8.0000</td>\n",
              "      <td>8.000000</td>\n",
              "      <td>8.000000</td>\n",
              "      <td>8.000000</td>\n",
              "      <td>7.000000</td>\n",
              "      <td>7.000000</td>\n",
              "      <td>7.000000</td>\n",
              "      <td>...</td>\n",
              "      <td>9.000000</td>\n",
              "      <td>9.000000</td>\n",
              "      <td>8.000000</td>\n",
              "      <td>9.000000</td>\n",
              "      <td>8.000000</td>\n",
              "      <td>8.000000</td>\n",
              "      <td>9.000000</td>\n",
              "      <td>7.000000</td>\n",
              "      <td>7.000000</td>\n",
              "      <td>7.000000</td>\n",
              "    </tr>\n",
              "  </tbody>\n",
              "</table>\n",
              "<p>8 rows × 24 columns</p>\n",
              "</div>\n",
              "    <div class=\"colab-df-buttons\">\n",
              "\n",
              "  <div class=\"colab-df-container\">\n",
              "    <button class=\"colab-df-convert\" onclick=\"convertToInteractive('df-0813f2f9-a027-4893-910b-b1d44810708e')\"\n",
              "            title=\"Convert this dataframe to an interactive table.\"\n",
              "            style=\"display:none;\">\n",
              "\n",
              "  <svg xmlns=\"http://www.w3.org/2000/svg\" height=\"24px\" viewBox=\"0 -960 960 960\">\n",
              "    <path d=\"M120-120v-720h720v720H120Zm60-500h600v-160H180v160Zm220 220h160v-160H400v160Zm0 220h160v-160H400v160ZM180-400h160v-160H180v160Zm440 0h160v-160H620v160ZM180-180h160v-160H180v160Zm440 0h160v-160H620v160Z\"/>\n",
              "  </svg>\n",
              "    </button>\n",
              "\n",
              "  <style>\n",
              "    .colab-df-container {\n",
              "      display:flex;\n",
              "      gap: 12px;\n",
              "    }\n",
              "\n",
              "    .colab-df-convert {\n",
              "      background-color: #E8F0FE;\n",
              "      border: none;\n",
              "      border-radius: 50%;\n",
              "      cursor: pointer;\n",
              "      display: none;\n",
              "      fill: #1967D2;\n",
              "      height: 32px;\n",
              "      padding: 0 0 0 0;\n",
              "      width: 32px;\n",
              "    }\n",
              "\n",
              "    .colab-df-convert:hover {\n",
              "      background-color: #E2EBFA;\n",
              "      box-shadow: 0px 1px 2px rgba(60, 64, 67, 0.3), 0px 1px 3px 1px rgba(60, 64, 67, 0.15);\n",
              "      fill: #174EA6;\n",
              "    }\n",
              "\n",
              "    .colab-df-buttons div {\n",
              "      margin-bottom: 4px;\n",
              "    }\n",
              "\n",
              "    [theme=dark] .colab-df-convert {\n",
              "      background-color: #3B4455;\n",
              "      fill: #D2E3FC;\n",
              "    }\n",
              "\n",
              "    [theme=dark] .colab-df-convert:hover {\n",
              "      background-color: #434B5C;\n",
              "      box-shadow: 0px 1px 3px 1px rgba(0, 0, 0, 0.15);\n",
              "      filter: drop-shadow(0px 1px 2px rgba(0, 0, 0, 0.3));\n",
              "      fill: #FFFFFF;\n",
              "    }\n",
              "  </style>\n",
              "\n",
              "    <script>\n",
              "      const buttonEl =\n",
              "        document.querySelector('#df-0813f2f9-a027-4893-910b-b1d44810708e button.colab-df-convert');\n",
              "      buttonEl.style.display =\n",
              "        google.colab.kernel.accessAllowed ? 'block' : 'none';\n",
              "\n",
              "      async function convertToInteractive(key) {\n",
              "        const element = document.querySelector('#df-0813f2f9-a027-4893-910b-b1d44810708e');\n",
              "        const dataTable =\n",
              "          await google.colab.kernel.invokeFunction('convertToInteractive',\n",
              "                                                    [key], {});\n",
              "        if (!dataTable) return;\n",
              "\n",
              "        const docLinkHtml = 'Like what you see? Visit the ' +\n",
              "          '<a target=\"_blank\" href=https://colab.research.google.com/notebooks/data_table.ipynb>data table notebook</a>'\n",
              "          + ' to learn more about interactive tables.';\n",
              "        element.innerHTML = '';\n",
              "        dataTable['output_type'] = 'display_data';\n",
              "        await google.colab.output.renderOutput(dataTable, element);\n",
              "        const docLink = document.createElement('div');\n",
              "        docLink.innerHTML = docLinkHtml;\n",
              "        element.appendChild(docLink);\n",
              "      }\n",
              "    </script>\n",
              "  </div>\n",
              "\n",
              "\n",
              "<div id=\"df-cf75021a-3aba-4b50-821f-550b1e2abe48\">\n",
              "  <button class=\"colab-df-quickchart\" onclick=\"quickchart('df-cf75021a-3aba-4b50-821f-550b1e2abe48')\"\n",
              "            title=\"Suggest charts\"\n",
              "            style=\"display:none;\">\n",
              "\n",
              "<svg xmlns=\"http://www.w3.org/2000/svg\" height=\"24px\"viewBox=\"0 0 24 24\"\n",
              "     width=\"24px\">\n",
              "    <g>\n",
              "        <path d=\"M19 3H5c-1.1 0-2 .9-2 2v14c0 1.1.9 2 2 2h14c1.1 0 2-.9 2-2V5c0-1.1-.9-2-2-2zM9 17H7v-7h2v7zm4 0h-2V7h2v10zm4 0h-2v-4h2v4z\"/>\n",
              "    </g>\n",
              "</svg>\n",
              "  </button>\n",
              "\n",
              "<style>\n",
              "  .colab-df-quickchart {\n",
              "      --bg-color: #E8F0FE;\n",
              "      --fill-color: #1967D2;\n",
              "      --hover-bg-color: #E2EBFA;\n",
              "      --hover-fill-color: #174EA6;\n",
              "      --disabled-fill-color: #AAA;\n",
              "      --disabled-bg-color: #DDD;\n",
              "  }\n",
              "\n",
              "  [theme=dark] .colab-df-quickchart {\n",
              "      --bg-color: #3B4455;\n",
              "      --fill-color: #D2E3FC;\n",
              "      --hover-bg-color: #434B5C;\n",
              "      --hover-fill-color: #FFFFFF;\n",
              "      --disabled-bg-color: #3B4455;\n",
              "      --disabled-fill-color: #666;\n",
              "  }\n",
              "\n",
              "  .colab-df-quickchart {\n",
              "    background-color: var(--bg-color);\n",
              "    border: none;\n",
              "    border-radius: 50%;\n",
              "    cursor: pointer;\n",
              "    display: none;\n",
              "    fill: var(--fill-color);\n",
              "    height: 32px;\n",
              "    padding: 0;\n",
              "    width: 32px;\n",
              "  }\n",
              "\n",
              "  .colab-df-quickchart:hover {\n",
              "    background-color: var(--hover-bg-color);\n",
              "    box-shadow: 0 1px 2px rgba(60, 64, 67, 0.3), 0 1px 3px 1px rgba(60, 64, 67, 0.15);\n",
              "    fill: var(--button-hover-fill-color);\n",
              "  }\n",
              "\n",
              "  .colab-df-quickchart-complete:disabled,\n",
              "  .colab-df-quickchart-complete:disabled:hover {\n",
              "    background-color: var(--disabled-bg-color);\n",
              "    fill: var(--disabled-fill-color);\n",
              "    box-shadow: none;\n",
              "  }\n",
              "\n",
              "  .colab-df-spinner {\n",
              "    border: 2px solid var(--fill-color);\n",
              "    border-color: transparent;\n",
              "    border-bottom-color: var(--fill-color);\n",
              "    animation:\n",
              "      spin 1s steps(1) infinite;\n",
              "  }\n",
              "\n",
              "  @keyframes spin {\n",
              "    0% {\n",
              "      border-color: transparent;\n",
              "      border-bottom-color: var(--fill-color);\n",
              "      border-left-color: var(--fill-color);\n",
              "    }\n",
              "    20% {\n",
              "      border-color: transparent;\n",
              "      border-left-color: var(--fill-color);\n",
              "      border-top-color: var(--fill-color);\n",
              "    }\n",
              "    30% {\n",
              "      border-color: transparent;\n",
              "      border-left-color: var(--fill-color);\n",
              "      border-top-color: var(--fill-color);\n",
              "      border-right-color: var(--fill-color);\n",
              "    }\n",
              "    40% {\n",
              "      border-color: transparent;\n",
              "      border-right-color: var(--fill-color);\n",
              "      border-top-color: var(--fill-color);\n",
              "    }\n",
              "    60% {\n",
              "      border-color: transparent;\n",
              "      border-right-color: var(--fill-color);\n",
              "    }\n",
              "    80% {\n",
              "      border-color: transparent;\n",
              "      border-right-color: var(--fill-color);\n",
              "      border-bottom-color: var(--fill-color);\n",
              "    }\n",
              "    90% {\n",
              "      border-color: transparent;\n",
              "      border-bottom-color: var(--fill-color);\n",
              "    }\n",
              "  }\n",
              "</style>\n",
              "\n",
              "  <script>\n",
              "    async function quickchart(key) {\n",
              "      const quickchartButtonEl =\n",
              "        document.querySelector('#' + key + ' button');\n",
              "      quickchartButtonEl.disabled = true;  // To prevent multiple clicks.\n",
              "      quickchartButtonEl.classList.add('colab-df-spinner');\n",
              "      try {\n",
              "        const charts = await google.colab.kernel.invokeFunction(\n",
              "            'suggestCharts', [key], {});\n",
              "      } catch (error) {\n",
              "        console.error('Error during call to suggestCharts:', error);\n",
              "      }\n",
              "      quickchartButtonEl.classList.remove('colab-df-spinner');\n",
              "      quickchartButtonEl.classList.add('colab-df-quickchart-complete');\n",
              "    }\n",
              "    (() => {\n",
              "      let quickchartButtonEl =\n",
              "        document.querySelector('#df-cf75021a-3aba-4b50-821f-550b1e2abe48 button');\n",
              "      quickchartButtonEl.style.display =\n",
              "        google.colab.kernel.accessAllowed ? 'block' : 'none';\n",
              "    })();\n",
              "  </script>\n",
              "</div>\n",
              "\n",
              "    </div>\n",
              "  </div>\n"
            ],
            "application/vnd.google.colaboratory.intrinsic+json": {
              "type": "dataframe"
            }
          },
          "metadata": {},
          "execution_count": 3
        }
      ]
    },
    {
      "cell_type": "code",
      "source": [
        "print(df['Level'].value_counts())"
      ],
      "metadata": {
        "colab": {
          "base_uri": "https://localhost:8080/"
        },
        "id": "RxpxpjfuSEQ9",
        "outputId": "cbb8347a-4f0d-44a4-a7e1-6c24e979f2a4"
      },
      "execution_count": null,
      "outputs": [
        {
          "output_type": "stream",
          "name": "stdout",
          "text": [
            "Level\n",
            "High      365\n",
            "Medium    332\n",
            "Low       303\n",
            "Name: count, dtype: int64\n"
          ]
        }
      ]
    },
    {
      "cell_type": "code",
      "source": [
        "cancer_data = df.drop(columns=[\"Patient Id\", \"Level\", \"index\"])"
      ],
      "metadata": {
        "id": "3_nYO2p56-8_"
      },
      "execution_count": null,
      "outputs": []
    },
    {
      "cell_type": "code",
      "source": [
        "scaler = StandardScaler()\n",
        "scaled_data = scaler.fit_transform(cancer_data)"
      ],
      "metadata": {
        "id": "g6wYt-FePnqU"
      },
      "execution_count": null,
      "outputs": []
    },
    {
      "cell_type": "code",
      "source": [
        "scaled_data_df = pd.DataFrame(scaled_data, columns=cancer_data.columns)"
      ],
      "metadata": {
        "id": "qwqbcpVTQB0M"
      },
      "execution_count": null,
      "outputs": []
    },
    {
      "cell_type": "markdown",
      "source": [
        "# Agrupamiento con K-means"
      ],
      "metadata": {
        "id": "q8Fefng-eE1F"
      }
    },
    {
      "cell_type": "code",
      "source": [
        "# Aplicar K-means con 3 clústeres (posibles grupos: Low, Medium y High)\n",
        "kmeans = KMeans(n_clusters=3, random_state=42, n_init=10)\n",
        "kmeans.fit(scaled_data)\n",
        "\n",
        "# Obtener etiquetas de clúster asignadas\n",
        "scaled_data_df['cluster'] = kmeans.labels_"
      ],
      "metadata": {
        "id": "eNKoXDR8QJKl"
      },
      "execution_count": null,
      "outputs": []
    },
    {
      "cell_type": "code",
      "source": [
        "print(\"Conteo de pacientes en cada clúster:\")\n",
        "print(scaled_data_df['cluster'].value_counts())"
      ],
      "metadata": {
        "colab": {
          "base_uri": "https://localhost:8080/"
        },
        "id": "5bDnzlnDQNCC",
        "outputId": "26594758-a656-4b1a-f2e2-b6667c7db912"
      },
      "execution_count": null,
      "outputs": [
        {
          "output_type": "stream",
          "name": "stdout",
          "text": [
            "Conteo de pacientes en cada clúster:\n",
            "cluster\n",
            "1    445\n",
            "0    375\n",
            "2    180\n",
            "Name: count, dtype: int64\n"
          ]
        }
      ]
    },
    {
      "cell_type": "markdown",
      "source": [
        "## Modelo en 2 dimensiones"
      ],
      "metadata": {
        "id": "aIB8Zurfdpny"
      }
    },
    {
      "cell_type": "code",
      "source": [
        "# Reducir dimensiones a 2D con PCA\n",
        "pca = PCA(n_components=2)\n",
        "cancer_pca = pca.fit_transform(scaled_data)\n",
        "print(f\"Varianza total explicada: {sum(pca.explained_variance_ratio_)*100:.2f}%\")"
      ],
      "metadata": {
        "id": "pSNZh_zQVwsR",
        "colab": {
          "base_uri": "https://localhost:8080/"
        },
        "outputId": "48925290-a24e-4dd8-ea8d-47db11248c56"
      },
      "execution_count": null,
      "outputs": [
        {
          "output_type": "stream",
          "name": "stdout",
          "text": [
            "Varianza total explicada: 51.32%\n"
          ]
        }
      ]
    },
    {
      "cell_type": "code",
      "source": [
        "plt.figure(figsize=(6, 4))\n",
        "plt.bar(range(1, 3), pca.explained_variance_ratio_ * 100, tick_label=[\"PC1\", \"PC2\"], color=\"skyblue\")\n",
        "plt.xlabel(\"Componentes Principales\")\n",
        "plt.ylabel(\"Varianza Explicada (%)\")\n",
        "plt.title(\"Varianza explicada por cada componente principal\")\n",
        "plt.show()"
      ],
      "metadata": {
        "colab": {
          "base_uri": "https://localhost:8080/",
          "height": 410
        },
        "id": "vHkQQynlQYO7",
        "outputId": "eeee8b65-2147-4c52-81c8-0868b65cb8db"
      },
      "execution_count": null,
      "outputs": [
        {
          "output_type": "display_data",
          "data": {
            "text/plain": [
              "<Figure size 600x400 with 1 Axes>"
            ],
            "image/png": "[encoded data removed]"
          },
          "metadata": {}
        }
      ]
    },
    {
      "cell_type": "code",
      "source": [
        "# Visualizar los clústeres\n",
        "plt.figure(figsize=(8, 6))\n",
        "plt.scatter(cancer_pca[:, 0], cancer_pca[:, 1], c=scaled_data_df['cluster'], cmap='rainbow', alpha=0.7)\n",
        "plt.title(\"Clústeres de pacientes (K-means con PCA)\")\n",
        "plt.xlabel(\"Componente Principal 1\")\n",
        "plt.ylabel(\"Componente Principal 2\")\n",
        "plt.show()"
      ],
      "metadata": {
        "colab": {
          "base_uri": "https://localhost:8080/",
          "height": 565
        },
        "id": "Y2XVNr77V0bW",
        "outputId": "e665e2c3-3c8e-4201-e6f3-12727f3bd4b9"
      },
      "execution_count": null,
      "outputs": [
        {
          "output_type": "display_data",
          "data": {
            "text/plain": [
              "<Figure size 800x600 with 1 Axes>"
            ],
            "image/png": "[encoded data removed]"
          },
          "metadata": {}
        }
      ]
    },
    {
      "cell_type": "markdown",
      "source": [
        "## Modelo en 3 dimensiones"
      ],
      "metadata": {
        "id": "JYtrlSV9d7kH"
      }
    },
    {
      "cell_type": "code",
      "source": [
        "# Reducir dimensiones a 3D con PCA\n",
        "pca3 = PCA(n_components=3)\n",
        "cancer_pca3 = pca3.fit_transform(scaled_data)\n",
        "print(f\"Varianza total explicada: {sum(pca3.explained_variance_ratio_)*100:.2f}%\")"
      ],
      "metadata": {
        "id": "DGGUzP6OeNpd",
        "colab": {
          "base_uri": "https://localhost:8080/"
        },
        "outputId": "e0172db1-8499-43a2-eb32-8a13a3319178"
      },
      "execution_count": null,
      "outputs": [
        {
          "output_type": "stream",
          "name": "stdout",
          "text": [
            "Varianza total explicada: 60.09%\n"
          ]
        }
      ]
    },
    {
      "cell_type": "code",
      "source": [
        "plt.figure(figsize=(6, 4))\n",
        "plt.bar(range(1, 4), pca3.explained_variance_ratio_ * 100, tick_label=[\"PC1\", \"PC2\", \"PC3\"], color=\"skyblue\")\n",
        "plt.xlabel(\"Componentes Principales\")\n",
        "plt.ylabel(\"Varianza Explicada (%)\")\n",
        "plt.title(\"Varianza explicada por cada componente principal\")\n",
        "plt.show()"
      ],
      "metadata": {
        "colab": {
          "base_uri": "https://localhost:8080/",
          "height": 410
        },
        "id": "U8YFSafxeOJm",
        "outputId": "887a572e-f1f5-4f90-a3fa-ed6f4b39fd37"
      },
      "execution_count": null,
      "outputs": [
        {
          "output_type": "display_data",
          "data": {
            "text/plain": [
              "<Figure size 600x400 with 1 Axes>"
            ],
            "image/png": "[encoded data removed]"
          },
          "metadata": {}
        }
      ]
    },
    {
      "cell_type": "code",
      "source": [
        "import plotly.express as px\n",
        "\n",
        "px.scatter_3d(x = cancer_pca3[:, 0], y = cancer_pca3[:, 1], z = cancer_pca3[:, 2], color = scaled_data_df['cluster'])"
      ],
      "metadata": {
        "colab": {
          "base_uri": "https://localhost:8080/",
          "height": 542
        },
        "id": "QgaGGSLEeVsB",
        "outputId": "f3af34ba-7941-4374-d2cf-8c1897bfb008"
      },
      "execution_count": null,
      "outputs": [
        {
          "output_type": "display_data",
          "data": {
            "text/html": [
              "<html>\n",
              "<head><meta charset=\"utf-8\" /></head>\n",
              "<body>\n",
              "    <div>            <script src=\"https://cdnjs.cloudflare.com/ajax/libs/mathjax/2.7.5/MathJax.js?config=TeX-AMS-MML_SVG\"></script><script type=\"text/javascript\">if (window.MathJax && window.MathJax.Hub && window.MathJax.Hub.Config) {window.MathJax.Hub.Config({SVG: {font: \"STIX-Web\"}});}</script>                <script type=\"text/javascript\">window.PlotlyConfig = {MathJaxConfig: 'local'};</script>\n",
              "        <script charset=\"utf-8\" src=\"https://cdn.plot.ly/plotly-2.35.2.min.js\"></script>                <div id=\"f25ddbcf-d232-42ef-9ffe-bf9eb100416a\" class=\"plotly-graph-div\" style=\"height:525px; width:100%;\"></div>            <script type=\"text/javascript\">                                    window.PLOTLYENV=window.PLOTLYENV || {};                                    if (document.getElementById(\"f25ddbcf-d232-42ef-9ffe-bf9eb100416a\")) {                    Plotly.newPlot(                        \"f25ddbcf-d232-42ef-9ffe-bf9eb100416a\",                        [{\"hovertemplate\":\"x=%{x}\\u003cbr\\u003ey=%{y}\\u003cbr\\u003ez=%{z}\\u003cbr\\u003ecolor=%{marker.color}\\u003cextra\\u003e\\u003c\\u002fextra\\u003e\",\"legendgroup\":\"\",\"marker\":{\"color\":[1,1,2,0,0,2,1,1,0,1,0,0,0,0,1,0,1,0,0,0,0,2,0,0,0,2,1,1,0,2,0,2,0,1,1,0,1,0,0,1,1,1,1,1,1,1,0,1,1,1,1,1,1,1,1,1,1,2,1,1,1,1,1,1,2,1,1,0,0,2,1,2,1,1,2,1,1,0,2,0,1,2,2,1,1,1,2,0,0,0,2,0,2,0,0,0,0,0,0,2,0,1,2,0,0,0,0,0,0,2,0,2,1,1,0,0,2,1,1,0,1,0,0,0,0,1,0,1,0,0,0,0,2,0,0,2,2,1,1,0,2,0,2,0,1,1,0,1,0,0,1,1,1,1,1,1,1,2,1,1,1,1,1,1,1,1,1,1,0,1,1,1,1,1,1,2,1,1,0,1,2,1,2,1,1,2,1,1,0,2,1,1,2,2,1,1,1,2,0,0,0,1,0,2,0,0,0,0,0,0,2,0,0,2,0,0,0,0,0,0,2,0,2,0,0,0,0,2,1,1,0,1,0,0,0,1,1,0,1,0,0,0,0,2,0,0,1,2,1,1,0,2,0,2,0,1,1,1,1,0,0,1,1,1,1,1,1,1,1,1,1,1,1,1,1,1,1,1,1,1,1,1,1,1,1,1,2,1,1,0,1,2,1,2,1,1,2,1,1,0,2,1,1,2,2,1,1,1,2,0,0,0,1,0,2,0,0,0,0,0,0,2,0,1,2,0,0,0,0,0,0,2,0,2,1,1,0,0,2,1,1,0,1,0,0,0,1,1,0,1,0,0,0,0,2,0,0,1,2,1,1,0,2,0,2,0,1,1,1,1,0,0,1,1,1,1,1,1,1,1,1,1,1,1,1,1,1,1,1,1,1,1,1,1,1,1,1,2,1,1,0,1,2,1,2,1,1,2,1,1,0,2,1,1,2,2,1,1,1,2,0,0,0,1,0,2,0,0,0,0,0,0,2,0,1,2,0,0,0,0,0,0,2,0,2,0,1,0,0,2,1,1,0,1,0,0,0,1,1,0,1,0,0,0,0,2,0,0,1,2,1,1,0,2,0,2,0,1,1,1,1,0,0,1,1,1,1,1,1,1,2,1,1,1,1,1,1,1,1,1,1,1,1,1,1,1,1,1,2,1,1,0,1,2,1,2,1,1,2,1,1,0,2,0,1,2,2,1,1,1,2,0,0,0,2,0,2,0,0,0,0,0,0,2,0,1,2,0,0,0,0,0,0,2,0,2,0,2,0,0,2,1,1,0,1,0,0,0,1,1,0,1,0,0,0,0,2,0,0,1,2,1,1,0,2,0,2,0,1,1,2,1,0,0,1,1,1,1,1,1,1,1,1,1,1,1,1,1,1,1,1,1,1,1,1,1,1,1,1,2,1,1,0,0,2,1,2,1,1,2,1,1,0,2,2,1,2,2,1,1,1,2,0,0,0,1,0,2,0,0,0,0,0,0,2,0,2,2,0,0,0,0,0,0,2,0,2,0,2,0,0,2,1,1,0,1,0,0,0,1,1,0,1,0,0,0,0,2,0,0,1,2,1,1,0,2,0,2,0,1,1,1,1,0,0,1,1,1,1,1,1,1,2,1,1,1,1,1,1,1,1,1,1,0,1,1,1,1,1,1,2,1,1,0,0,2,1,2,1,1,2,1,1,0,2,0,1,2,2,1,1,1,2,0,0,0,0,0,2,0,0,0,0,0,0,2,0,2,2,0,0,0,0,0,0,2,0,2,1,0,0,0,2,1,1,0,1,0,0,0,0,1,0,1,0,0,0,0,2,0,0,0,2,1,1,0,2,0,2,0,1,1,0,1,0,0,1,1,1,1,1,1,1,0,1,1,1,1,1,1,1,1,1,1,0,1,1,1,1,1,1,2,1,1,0,2,2,1,2,1,1,2,1,1,0,2,0,1,2,2,1,1,1,2,0,0,0,2,0,2,0,0,0,0,0,0,2,0,0,2,0,0,0,0,0,0,2,0,2,0,0,0,0,2,1,1,0,1,0,0,0,0,1,0,1,0,0,0,0,2,0,0,0,2,1,1,0,2,0,2,0,1,1,0,1,0,0,1,1,1,1,1,1,1,0,1,1,1,1,1,1,1,1,1,1,2,1,1,1,1,1,1,2,1,1,0,0,2,1,2,1,1,2,1,1,0,2,2,1,2,2,1,1,1,2,0,1,1,0,1,2,0,0,1,1,0,0,2,0,0,2,0,0,0,0,0,0,2,0,2],\"coloraxis\":\"coloraxis\",\"symbol\":\"circle\"},\"mode\":\"markers\",\"name\":\"\",\"scene\":\"scene\",\"showlegend\":false,\"x\":[-2.5322660967245536,-2.4992346271397485,1.7108957662298174,3.9314396220088548,3.599374349514709,1.7108957662298174,-2.657883178518881,-3.1589878886430176,0.7513184978775447,-2.3595335066198055,3.713500038895662,4.100013700090109,1.42706698460231,3.799082423747041,-3.1949932533270244,1.5781335273835673,-2.4992346271397485,3.799082423747041,4.606017319473092,0.22620906526144594,3.356861381896589,1.5827707964700537,3.6395005569617,3.5547435936818697,4.606017319473092,1.1082587718582608,-2.6753649859370996,-2.248463099683534,3.7740771119816965,-0.8128698655207366,1.21199052661241,1.074208310366268,1.8785981096481965,-2.5322660967245536,-3.1665115525393284,0.22620906526144594,-3.1949932533270244,2.057593676691037,0.29833909810315884,-0.31363811890295706,-3.1614957766084544,-3.314553622213787,-3.5553648120899566,-4.0690385702202825,-3.26489093323044,-3.9491784133411096,3.356861381896589,-3.1525773060118762,-4.468955730630188,-4.1217422310508,-4.50395496336069,-2.8307256488825425,-4.546541574178828,-4.449413197346548,-3.4162060271348227,-3.7834333348155824,-3.924139206064036,1.5827707964700537,-3.5646188774574057,-3.9344770795941892,-3.088590583248962,-3.83335963318175,-3.525901103803158,-2.7552761053632993,1.0405457967914638,-2.4870507050068498,-2.356524965719802,1.8811059976136333,3.6395005569617,-0.8028383136589888,-2.5845170401911073,1.10073510796195,-2.6753649859370996,-2.213352668167417,1.000419589344473,-2.509621696695782,-2.238431547821786,2.0919912702328163,-0.7677278821428718,3.5547435936818697,-2.7377208896052405,1.0756562283075808,0.8923577233082046,-2.6803807618679736,-2.3916353972359192,-2.7728313211213576,1.033022132895153,3.713500038895662,4.195536126299193,3.8041717675669395,1.1082587718582608,3.4295901328942593,1.537628813092189,3.4261073963770805,3.722994770888625,3.7790193200235453,4.608525207438529,3.673373831448671,4.160425694783076,1.5225814852995674,3.4085521806190218,-2.6753649859370996,1.9956732664769412,3.8264704265567824,3.6720534641510625,3.7581726688712265,4.598493655576781,3.713500038895662,4.032300725023312,1.5125499334378196,3.3558865333448464,1.9906574905460672,-3.1665115525393284,-2.248463099683534,3.6256167057993487,3.9314396220088548,1.537628813092189,-2.5322660967245536,-3.1665115525393284,0.7513184978775447,-2.580450331100735,3.7235315907574096,4.273280653227737,1.6003339377399386,3.7740771119816965,-3.1949932533270244,1.5781335273835673,-2.4992346271397485,3.799082423747041,4.606017319473092,0.22620906526144594,3.356861381896589,1.5827707964700537,3.6395005569617,3.5547435936818697,-0.8128698655207366,1.1082587718582608,-2.6753649859370996,-2.248463099683534,3.7740771119816965,-0.8128698655207366,1.21199052661241,1.074208310366268,1.8785981096481965,-2.5322660967245536,-3.1665115525393284,1.21199052661241,-3.1949932533270244,2.057593676691037,0.29833909810315884,-0.31363811890295706,-2.988228823470826,-3.1412866690761585,-3.5553648120899566,-4.0690385702202825,-3.4381578863680686,-3.9491784133411096,1.074208310366268,-3.1525773060118762,-4.468955730630188,-4.1217422310508,-4.50395496336069,-2.8307256488825425,-4.546541574178828,-4.449413197346548,-3.4162060271348227,-3.7834333348155824,-3.7508722529264076,1.8785981096481965,-3.391351924319777,-3.761210126456561,-2.9153236301113337,-3.660092680044122,-3.525901103803158,-2.7552761053632993,0.8672788436538356,-2.4870507050068498,-2.183258012582174,2.0543729507512625,-2.5322660967245536,-0.6295713605213603,-2.5845170401911073,1.10073510796195,-2.6753649859370996,-2.213352668167417,1.000419589344473,-2.509621696695782,-2.238431547821786,1.9187243170951875,-0.7677278821428718,-3.1665115525393284,-2.7377208896052405,1.0756562283075808,0.8923577233082046,-2.6803807618679736,-2.3916353972359192,-2.7728313211213576,1.033022132895153,3.713500038895662,4.195536126299193,3.8041717675669395,-3.1949932533270244,3.4295901328942593,1.537628813092189,3.599374349514709,3.722994770888625,3.7790193200235453,4.608525207438529,3.673373831448671,4.160425694783076,1.5225814852995674,3.4085521806190218,2.057593676691037,1.9956732664769412,3.8264704265567824,3.6720534641510625,3.7581726688712265,4.598493655576781,3.713500038895662,4.032300725023312,1.5125499334378196,3.3558865333448464,1.9906574905460672,0.9245854510151733,0.29833909810315884,3.6256167057993487,3.9314396220088548,1.7108957662298174,-2.5322660967245536,-3.1665115525393284,0.9245854510151733,-2.407183377963107,3.7235315907574096,4.273280653227737,1.6003339377399386,-0.31363811890295706,-3.1949932533270244,1.5781335273835673,-2.4992346271397485,3.799082423747041,4.606017319473092,0.22620906526144594,3.356861381896589,1.5827707964700537,3.6395005569617,3.5547435936818697,-2.988228823470826,1.1082587718582608,-2.6753649859370996,-2.248463099683534,3.7740771119816965,-0.8128698655207366,1.21199052661241,1.074208310366268,1.8785981096481965,-2.5322660967245536,-3.1665115525393284,-3.1412866690761585,-3.1949932533270244,2.057593676691037,0.29833909810315884,-0.31363811890295706,-2.988228823470826,-3.1412866690761585,-3.5553648120899566,-4.0690385702202825,-3.4381578863680686,-3.9491784133411096,-3.5553648120899566,-3.1525773060118762,-4.468955730630188,-4.1217422310508,-4.50395496336069,-2.8307256488825425,-4.546541574178828,-4.449413197346548,-3.4162060271348227,-3.7834333348155824,-3.7508722529264076,-4.0690385702202825,-3.391351924319777,-3.761210126456561,-2.9153236301113337,-3.660092680044122,-3.525901103803158,-2.7552761053632993,0.8672788436538356,-2.4870507050068498,-2.183258012582174,2.0543729507512625,-3.4381578863680686,-0.6295713605213603,-2.5845170401911073,1.10073510796195,-2.6753649859370996,-2.213352668167417,1.000419589344473,-2.509621696695782,-2.238431547821786,1.9187243170951875,-0.7677278821428718,-3.9491784133411096,-2.7377208896052405,1.0756562283075808,0.8923577233082046,-2.6803807618679736,-2.3916353972359192,-2.7728313211213576,1.033022132895153,3.713500038895662,4.195536126299193,3.8041717675669395,-3.1525773060118762,3.4295901328942593,1.537628813092189,3.599374349514709,3.722994770888625,3.7790193200235453,4.608525207438529,3.673373831448671,4.160425694783076,1.5225814852995674,3.4085521806190218,-4.468955730630188,1.9956732664769412,3.8264704265567824,3.6720534641510625,3.7581726688712265,4.598493655576781,3.713500038895662,4.032300725023312,1.5125499334378196,3.3558865333448464,1.9906574905460672,-2.407183377963107,-4.1217422310508,3.6256167057993487,3.9314396220088548,1.7108957662298174,-2.5322660967245536,-3.1665115525393284,0.9245854510151733,-2.407183377963107,3.7235315907574096,4.273280653227737,1.6003339377399386,-4.50395496336069,-3.1949932533270244,1.5781335273835673,-2.4992346271397485,3.799082423747041,4.606017319473092,0.22620906526144594,3.356861381896589,1.5827707964700537,3.6395005569617,3.5547435936818697,-2.8307256488825425,1.1082587718582608,-2.6753649859370996,-2.248463099683534,3.7740771119816965,-0.8128698655207366,1.21199052661241,1.074208310366268,1.8785981096481965,-2.5322660967245536,-3.1665115525393284,-4.546541574178828,-3.1949932533270244,2.057593676691037,0.29833909810315884,-0.1403711657653285,-2.988228823470826,-3.1412866690761585,-3.5553648120899566,-4.0690385702202825,-3.4381578863680686,-3.9491784133411096,-4.449413197346548,-3.1525773060118762,-4.468955730630188,-4.15434477460148,-4.453797204051952,-2.780567889573804,-4.496383814870089,-4.39925543803781,-3.4162060271348227,-3.7834333348155824,-3.7508722529264076,-3.4162060271348227,-3.391351924319777,-3.761210126456561,-2.9153236301113337,-3.660092680044122,-3.525901103803158,-2.7552761053632993,0.8672788436538356,-2.4870507050068498,-2.183258012582174,2.0543729507512625,-3.7834333348155824,-0.8028383136589888,-2.5845170401911073,1.10073510796195,-2.6502861062827305,-2.213352668167417,1.0254984689988422,-2.509621696695782,-2.238431547821786,1.9187243170951875,-0.7677278821428718,-3.7508722529264076,-2.7377208896052405,1.0756562283075808,0.8923577233082046,-2.655301882213604,-2.3414776379271807,-2.599564367983729,1.0581010125495223,3.738578918550031,4.195536126299193,3.8041717675669395,-3.391351924319777,3.454669012548629,1.7359746458841865,3.599374349514709,3.748073650542994,3.804098199677915,4.608525207438529,3.673373831448671,4.160425694783076,1.720927318091565,3.5818191337566505,-3.761210126456561,1.9956732664769412,3.8264704265567824,3.8703992969430607,3.9314396220088548,4.598493655576781,3.713500038895662,4.20556767816094,1.6858168865754481,3.5542323661368442,1.9906574905460672,3.7235315907574096,-2.9153236301113337,3.6256167057993487,3.9314396220088548,1.7108957662298174,-2.5322660967245536,-3.1665115525393284,0.7513184978775447,-2.580450331100735,3.550264637619781,4.273280653227737,1.6003339377399386,-3.660092680044122,-3.1949932533270244,1.5781335273835673,-2.4992346271397485,3.799082423747041,4.606017319473092,0.25128794491581524,3.356861381896589,1.756037749607682,3.6395005569617,3.7280105468194984,-3.525901103803158,1.1082587718582608,-2.5020980327994713,-2.248463099683534,3.7740771119816965,-0.6396029123831081,1.3852574797500385,1.074208310366268,1.8785981096481965,-2.5322660967245536,-3.1665115525393284,-2.7552761053632993,-3.1949932533270244,2.057593676691037,0.29833909810315884,-0.31363811890295706,-2.988228823470826,-3.1412866690761585,-3.5553648120899566,-4.0690385702202825,-3.4381578863680686,-3.9491784133411096,0.8672788436538356,-3.1525773060118762,-4.468955730630188,-4.1217422310508,-4.50395496336069,-2.8307256488825425,-4.373274621041199,-4.2761462442089195,-3.4162060271348227,-3.7834333348155824,-3.7508722529264076,-2.4870507050068498,-3.391351924319777,-3.761210126456561,-2.9153236301113337,-3.660092680044122,-3.525901103803158,-2.7552761053632993,0.8672788436538356,-2.4870507050068498,-2.183258012582174,2.0543729507512625,-2.183258012582174,-0.6295713605213603,-2.5845170401911073,1.10073510796195,-2.6753649859370996,-2.213352668167417,1.000419589344473,-2.509621696695782,-2.238431547821786,1.9187243170951875,-0.7677278821428718,2.0543729507512625,-2.7377208896052405,1.0756562283075808,0.8923577233082046,-2.6803807618679736,-2.3916353972359192,-2.7728313211213576,1.033022132895153,3.713500038895662,4.195536126299193,3.8041717675669395,-0.6295713605213603,3.4295901328942593,1.537628813092189,3.599374349514709,3.722994770888625,3.7790193200235453,4.608525207438529,3.673373831448671,4.160425694783076,1.5225814852995674,3.4085521806190218,-2.5845170401911073,1.9956732664769412,3.8264704265567824,3.6720534641510625,3.7581726688712265,4.598493655576781,3.713500038895662,4.032300725023312,1.5125499334378196,3.3558865333448464,1.9906574905460672,4.273280653227737,1.10073510796195,3.6256167057993487,3.9314396220088548,1.7108957662298174,-2.5322660967245536,-3.1665115525393284,0.9245854510151733,-2.407183377963107,3.7235315907574096,4.273280653227737,1.6003339377399386,-2.6753649859370996,-3.1949932533270244,1.5781335273835673,-2.4992346271397485,3.799082423747041,4.606017319473092,0.22620906526144594,3.356861381896589,1.5827707964700537,3.6395005569617,3.5547435936818697,-2.213352668167417,1.1082587718582608,-2.6753649859370996,-2.248463099683534,3.7740771119816965,-0.8128698655207366,1.21199052661241,1.074208310366268,1.8785981096481965,-2.5322660967245536,-3.1665115525393284,1.000419589344473,-3.1949932533270244,2.057593676691037,0.29833909810315884,-0.31363811890295706,-2.988228823470826,-3.1412866690761585,-3.5553648120899566,-4.0690385702202825,-3.4381578863680686,-3.9491784133411096,-2.509621696695782,-3.1525773060118762,-4.468955730630188,-4.1217422310508,-4.50395496336069,-2.8307256488825425,-4.546541574178828,-4.449413197346548,-3.4162060271348227,-3.7834333348155824,-3.7508722529264076,-2.238431547821786,-3.391351924319777,-3.761210126456561,-2.9153236301113337,-3.660092680044122,-3.525901103803158,-2.7552761053632993,0.8672788436538356,-2.4870507050068498,-2.183258012582174,2.0543729507512625,1.9187243170951875,-0.6295713605213603,-2.5845170401911073,1.10073510796195,-2.6753649859370996,-2.213352668167417,1.000419589344473,-2.509621696695782,-2.238431547821786,1.9187243170951875,-0.7677278821428718,-0.7677278821428718,-2.7377208896052405,1.0756562283075808,0.8923577233082046,-2.6803807618679736,-2.3916353972359192,-2.7728313211213576,1.033022132895153,3.713500038895662,4.195536126299193,3.8041717675669395,-2.7377208896052405,3.4295901328942593,1.537628813092189,3.599374349514709,3.722994770888625,3.7790193200235453,4.608525207438529,3.673373831448671,4.160425694783076,1.5225814852995674,3.4085521806190218,1.0756562283075808,1.9956732664769412,3.8264704265567824,3.6720534641510625,3.7581726688712265,4.598493655576781,3.713500038895662,4.032300725023312,1.5125499334378196,3.3558865333448464,1.9906574905460672,1.6003339377399386,0.8923577233082046,3.6256167057993487,3.9314396220088548,1.7108957662298174,-2.5322660967245536,-3.1665115525393284,0.9245854510151733,-2.407183377963107,3.7235315907574096,4.273280653227737,1.6003339377399386,-2.6803807618679736,-3.1949932533270244,1.5781335273835673,-2.4992346271397485,3.799082423747041,4.606017319473092,0.22620906526144594,3.356861381896589,1.5827707964700537,3.6395005569617,3.5547435936818697,-2.3916353972359192,1.1082587718582608,-2.6753649859370996,-2.248463099683534,3.7740771119816965,-0.8128698655207366,1.21199052661241,1.074208310366268,1.8785981096481965,-2.5322660967245536,-3.1665115525393284,-2.7728313211213576,-3.1949932533270244,2.057593676691037,0.29833909810315884,-0.31363811890295706,-2.988228823470826,-3.1412866690761585,-3.5553648120899566,-4.0690385702202825,-3.4381578863680686,-3.9491784133411096,1.033022132895153,-3.1525773060118762,-4.468955730630188,-4.1217422310508,-4.50395496336069,-2.8307256488825425,-4.546541574178828,-4.449413197346548,-3.4162060271348227,-3.7834333348155824,-3.7508722529264076,3.713500038895662,-3.391351924319777,-3.761210126456561,-2.9153236301113337,-3.660092680044122,-3.525901103803158,-2.7552761053632993,0.8672788436538356,-2.4870507050068498,-2.183258012582174,2.0543729507512625,4.195536126299193,-0.6295713605213603,-2.5845170401911073,1.10073510796195,-2.6753649859370996,-2.213352668167417,1.000419589344473,-2.509621696695782,-2.238431547821786,1.9187243170951875,-0.7677278821428718,3.8041717675669395,-2.7377208896052405,1.0756562283075808,0.8923577233082046,-2.6803807618679736,-2.3916353972359192,-2.7728313211213576,1.033022132895153,3.713500038895662,4.195536126299193,3.8041717675669395,3.4295901328942593,3.4295901328942593,1.537628813092189,3.599374349514709,3.722994770888625,3.7790193200235453,4.608525207438529,3.673373831448671,4.160425694783076,1.5225814852995674,3.4085521806190218,1.537628813092189,1.9956732664769412,3.8264704265567824,3.6720534641510625,3.7581726688712265,4.598493655576781,3.713500038895662,4.032300725023312,1.5125499334378196,3.3558865333448464,1.9906574905460672,-3.1949932533270244,3.599374349514709,3.6256167057993487,3.9314396220088548,1.7108957662298174,-2.5322660967245536,-3.1665115525393284,0.9245854510151733,-2.407183377963107,3.7235315907574096,4.273280653227737,1.6003339377399386,3.722994770888625,-3.1949932533270244,1.5781335273835673,-2.4992346271397485,3.799082423747041,4.606017319473092,0.22620906526144594,3.356861381896589,1.5827707964700537,3.6395005569617,3.5547435936818697,3.7790193200235453,1.1082587718582608,-2.6753649859370996,-2.248463099683534,3.7740771119816965,-0.8128698655207366,1.21199052661241,1.074208310366268,1.8785981096481965,-2.5322660967245536,-3.1665115525393284,4.608525207438529,-3.1949932533270244,2.057593676691037,0.29833909810315884,-0.31363811890295706,-2.988228823470826,-3.1412866690761585,-3.5553648120899566,-4.0690385702202825,-3.4381578863680686,-3.9491784133411096,3.673373831448671,-3.1525773060118762,-4.468955730630188,-4.1217422310508,-4.50395496336069,-2.8307256488825425,-4.546541574178828,-4.449413197346548,-3.4162060271348227,-3.7834333348155824,-3.7508722529264076,4.160425694783076,-3.391351924319777,-3.761210126456561,-2.9153236301113337,-3.660092680044122,-3.525901103803158,-2.7552761053632993,0.8672788436538356,-2.4870507050068498,-2.183258012582174,2.0543729507512625,1.5225814852995674,-0.6295713605213603,-2.5845170401911073,1.10073510796195,-2.6753649859370996,-2.213352668167417,1.000419589344473,-2.509621696695782,-2.238431547821786,1.9187243170951875,-0.7677278821428718,3.4085521806190218,-2.7377208896052405,1.0756562283075808,0.8923577233082046,-2.6803807618679736,-2.3916353972359192,-2.7728313211213576,1.033022132895153,3.713500038895662,4.195536126299193,3.8041717675669395,1.9956732664769412,3.4295901328942593,1.537628813092189,3.599374349514709,3.722994770888625,3.7790193200235453,4.608525207438529,3.673373831448671,4.160425694783076,1.5225814852995674,3.4085521806190218,3.8264704265567824,1.9956732664769412,3.8264704265567824,3.6720534641510625,3.7581726688712265,4.598493655576781,3.713500038895662,4.032300725023312,1.5125499334378196,3.3558865333448464,1.9906574905460672,1.5781335273835673,3.6720534641510625,3.6256167057993487,3.9314396220088548,1.537628813092189,-2.5322660967245536,-3.1665115525393284,0.9245854510151733,-2.407183377963107,3.7235315907574096,4.273280653227737,1.6003339377399386,3.7581726688712265,-3.1949932533270244,1.5781335273835673,-2.4992346271397485,3.799082423747041,4.606017319473092,0.22620906526144594,3.356861381896589,1.5827707964700537,3.6395005569617,3.5547435936818697,4.598493655576781,1.1082587718582608,-2.6753649859370996,-2.248463099683534,3.7740771119816965,-0.8128698655207366,1.21199052661241,1.074208310366268,1.8785981096481965,-2.5322660967245536,-3.1665115525393284,3.713500038895662,-3.1949932533270244,2.057593676691037,0.29833909810315884,-0.31363811890295706,-2.988228823470826,-3.1412866690761585,-3.5553648120899566,-4.0690385702202825,-3.4381578863680686,-3.9491784133411096,4.032300725023312,-3.1525773060118762,-4.468955730630188,-4.1217422310508,-4.50395496336069,-2.8307256488825425,-4.546541574178828,-4.449413197346548,-3.4162060271348227,-3.7834333348155824,-3.7508722529264076,1.5125499334378196,-3.391351924319777,-3.761210126456561,-2.9153236301113337,-3.660092680044122,-3.525901103803158,-2.7552761053632993,0.8672788436538356,-2.4870507050068498,-2.183258012582174,2.0543729507512625,3.3558865333448464,-0.6295713605213603,-2.5845170401911073,1.10073510796195,-2.6753649859370996,-2.213352668167417,1.000419589344473,-2.509621696695782,-2.238431547821786,1.9187243170951875,-0.7677278821428718,1.9906574905460672,-2.7377208896052405,1.0756562283075808,0.8923577233082046,-2.6803807618679736,-2.3916353972359192,-2.7728313211213576,1.033022132895153,3.713500038895662,-2.5322660967245536,-2.9430868400929615,3.6256167057993487,-2.956521213088036,1.537628813092189,3.599374349514709,3.722994770888625,-2.2309078839254752,-2.602072255949166,3.673373831448671,4.160425694783076,1.5225814852995674,3.4085521806190218,3.9314396220088548,1.9956732664769412,3.8264704265567824,3.6720534641510625,3.7581726688712265,4.598493655576781,3.713500038895662,4.032300725023312,1.5125499334378196,3.3558865333448464,1.9906574905460672],\"y\":[-0.6856080886259548,1.04610398116001,2.8775569014117806,-1.240071346867386,-2.584446860921114,2.8775569014117806,-0.583911298277968,-0.36681144145655825,-0.9205820964542898,-0.6705709361803642,-1.6191191334563584,-0.22939364628857964,-0.9995498538367904,-1.2429635352221873,0.5219554907682032,-0.842046358846669,1.04610398116001,-1.2429635352221873,1.5339054695093015,-1.4692782924804575,-2.0877026120226807,2.9775128819463412,-2.5565939039062933,0.23657338654948273,1.5339054695093015,2.746356332269082,0.3270906045470826,1.8444642650971323,-0.023032814256280287,2.8430844399359665,-0.4415070853898639,1.5566686189590209,-0.964135248561356,-0.6856080886259548,-0.3720338708968372,-1.4692782924804575,0.5219554907682032,-0.9525562163429028,-1.7868806018664865,0.19799548029958314,-0.36855225126998464,-1.17857723687264,-0.7918122503235347,-0.5367425384039044,-1.2800961145611176,-1.5031592267540248,-2.0877026120226807,-1.4061463594888077,-0.4961914805989491,-0.7087495269824473,-0.48254867353257264,-0.298651903660154,-1.725484790232233,-0.20262574209429296,-1.3384757005680061,-1.017459100496517,-1.6572089284455571,2.9775128819463412,-1.4883081730361944,-1.0304272693072023,-1.0629130179265684,-0.7759788092990072,-0.11213813489318186,-0.7168175140089735,2.6993544673065712,0.2689140595347538,1.9583467241391037,-0.9623944387479296,-2.5565939039062933,2.8500476791896716,-0.7871797277152865,2.741133902828803,0.3270906045470826,1.8688356024851007,2.6715015102917503,0.2532467712139169,1.8514275043508375,-1.0049036954394217,2.87441901657764,0.23657338654948273,-0.7046318453149892,2.72372580469454,2.7853839693337212,0.32360898492023005,1.933975386751135,-0.7290031827029578,2.6941320378662925,-1.6191191334563584,-0.3519801543976823,-0.0021430964951643663,2.746356332269082,-2.037219127433317,2.9461783053046675,-2.5158254570282272,0.1644703630297435,-1.256890013729598,1.535646279322728,-1.6469720904711795,-0.37635149178565086,2.9357334464241096,-2.5280111257222115,0.3270906045470826,2.897267756628794,-2.6047746314129063,0.2290207160237263,-1.1714499429744991,1.5286830400690226,-1.6191191334563584,-0.27639551125109046,2.928770207170404,-2.5645681318041644,2.8937861370019418,-0.3720338708968372,1.8444642650971323,-2.555302135467709,-1.240071346867386,2.9461783053046675,-0.6856080886259548,-0.3720338708968372,-0.9205820964542898,-0.6350249187425775,-1.612155894202653,-0.2980150501814664,-1.0681712577296771,-0.023032814256280287,0.5219554907682032,-0.842046358846669,1.04610398116001,-1.2429635352221873,1.5339054695093015,-1.4692782924804575,-2.0877026120226807,2.9775128819463412,-2.5565939039062933,0.23657338654948273,2.8430844399359665,2.746356332269082,0.3270906045470826,1.8444642650971323,-0.023032814256280287,2.8430844399359665,-0.4415070853898639,1.5566686189590209,-0.964135248561356,-0.6856080886259548,-0.3720338708968372,-0.4415070853898639,0.5219554907682032,-0.9525562163429028,-1.7868806018664865,0.19799548029958314,-0.43717365516287127,-1.2471986407655267,-0.7918122503235347,-0.5367425384039044,-1.2114747106682309,-1.5031592267540248,1.5566686189590209,-1.4061463594888077,-0.4961914805989491,-0.7087495269824473,-0.48254867353257264,-0.298651903660154,-1.725484790232233,-0.20262574209429296,-1.3384757005680061,-1.017459100496517,-1.7258303323384439,-0.964135248561356,-1.5569295769290812,-1.099048673200089,-1.1315344218194552,-0.8446002131918939,-0.11213813489318186,-0.7168175140089735,2.767975871199458,0.2689140595347538,1.8897253202462168,-1.0310158426408165,-0.6856080886259548,2.781426275296785,-0.7871797277152865,2.741133902828803,0.3270906045470826,1.8688356024851007,2.6715015102917503,0.2532467712139169,1.8514275043508375,-0.9362822915465349,2.87441901657764,-0.3720338708968372,-0.7046318453149892,2.72372580469454,2.7853839693337212,0.32360898492023005,1.933975386751135,-0.7290031827029578,2.6941320378662925,-1.6191191334563584,-0.3519801543976823,-0.0021430964951643663,0.5219554907682032,-2.037219127433317,2.9461783053046675,-2.584446860921114,0.1644703630297435,-1.256890013729598,1.535646279322728,-1.6469720904711795,-0.37635149178565086,2.9357334464241096,-2.5280111257222115,-0.9525562163429028,2.897267756628794,-2.6047746314129063,0.2290207160237263,-1.1714499429744991,1.5286830400690226,-1.6191191334563584,-0.27639551125109046,2.928770207170404,-2.5645681318041644,2.8937861370019418,-0.9892035003471767,-1.7868806018664865,-2.555302135467709,-1.240071346867386,2.8775569014117806,-0.6856080886259548,-0.3720338708968372,-0.9892035003471767,-0.7036463226354642,-1.612155894202653,-0.2980150501814664,-1.0681712577296771,0.19799548029958314,0.5219554907682032,-0.842046358846669,1.04610398116001,-1.2429635352221873,1.5339054695093015,-1.4692782924804575,-2.0877026120226807,2.9775128819463412,-2.5565939039062933,0.23657338654948273,-0.43717365516287127,2.746356332269082,0.3270906045470826,1.8444642650971323,-0.023032814256280287,2.8430844399359665,-0.4415070853898639,1.5566686189590209,-0.964135248561356,-0.6856080886259548,-0.3720338708968372,-1.2471986407655267,0.5219554907682032,-0.9525562163429028,-1.7868806018664865,0.19799548029958314,-0.43717365516287127,-1.2471986407655267,-0.7918122503235347,-0.5367425384039044,-1.2114747106682309,-1.5031592267540248,-0.7918122503235347,-1.4061463594888077,-0.4961914805989491,-0.7087495269824473,-0.48254867353257264,-0.298651903660154,-1.725484790232233,-0.20262574209429296,-1.3384757005680061,-1.017459100496517,-1.7258303323384439,-0.5367425384039044,-1.5569295769290812,-1.099048673200089,-1.1315344218194552,-0.8446002131918939,-0.11213813489318186,-0.7168175140089735,2.767975871199458,0.2689140595347538,1.8897253202462168,-1.0310158426408165,-1.2114747106682309,2.781426275296785,-0.7871797277152865,2.741133902828803,0.3270906045470826,1.8688356024851007,2.6715015102917503,0.2532467712139169,1.8514275043508375,-0.9362822915465349,2.87441901657764,-1.5031592267540248,-0.7046318453149892,2.72372580469454,2.7853839693337212,0.32360898492023005,1.933975386751135,-0.7290031827029578,2.6941320378662925,-1.6191191334563584,-0.3519801543976823,-0.0021430964951643663,-1.4061463594888077,-2.037219127433317,2.9461783053046675,-2.584446860921114,0.1644703630297435,-1.256890013729598,1.535646279322728,-1.6469720904711795,-0.37635149178565086,2.9357334464241096,-2.5280111257222115,-0.4961914805989491,2.897267756628794,-2.6047746314129063,0.2290207160237263,-1.1714499429744991,1.5286830400690226,-1.6191191334563584,-0.27639551125109046,2.928770207170404,-2.5645681318041644,2.8937861370019418,-0.7036463226354642,-0.7087495269824473,-2.555302135467709,-1.240071346867386,2.8775569014117806,-0.6856080886259548,-0.3720338708968372,-0.9892035003471767,-0.7036463226354642,-1.612155894202653,-0.2980150501814664,-1.0681712577296771,-0.48254867353257264,0.5219554907682032,-0.842046358846669,1.04610398116001,-1.2429635352221873,1.5339054695093015,-1.4692782924804575,-2.0877026120226807,2.9775128819463412,-2.5565939039062933,0.23657338654948273,-0.298651903660154,2.746356332269082,0.3270906045470826,1.8444642650971323,-0.023032814256280287,2.8430844399359665,-0.4415070853898639,1.5566686189590209,-0.964135248561356,-0.6856080886259548,-0.3720338708968372,-1.725484790232233,0.5219554907682032,-0.9525562163429028,-1.7868806018664865,0.12937407640669618,-0.43717365516287127,-1.2471986407655267,-0.7918122503235347,-0.5367425384039044,-1.2114747106682309,-1.5031592267540248,-0.20262574209429296,-1.4061463594888077,-0.4961914805989491,-0.7313800545569895,-0.44773247726404614,-0.2638357073916275,-1.6906685939637065,-0.16780954582576643,-1.3384757005680061,-1.017459100496517,-1.7258303323384439,-1.3384757005680061,-1.5569295769290812,-1.099048673200089,-1.1315344218194552,-0.8446002131918939,-0.11213813489318186,-0.7168175140089735,2.767975871199458,0.2689140595347538,1.8897253202462168,-1.0310158426408165,-1.017459100496517,2.8500476791896716,-0.7871797277152865,2.741133902828803,0.34449870268134586,1.8688356024851007,2.6889096084260133,0.2532467712139169,1.8514275043508375,-0.9362822915465349,2.87441901657764,-1.7258303323384439,-0.7046318453149892,2.72372580469454,2.7853839693337212,0.3410170830544933,1.9687915830196616,-0.7976245865958445,2.7115401360005555,-1.6017110353220951,-0.3519801543976823,-0.0021430964951643663,-1.5569295769290812,-2.019811029299054,2.894964999546044,-2.584446860921114,0.18187846116400674,-1.239481915595335,1.535646279322728,-1.6469720904711795,-0.37635149178565086,2.884520140665486,-2.5966325296150985,-1.099048673200089,2.897267756628794,-2.6047746314129063,0.17780741026510283,-1.240071346867386,1.5286830400690226,-1.6191191334563584,-0.3450169151439772,2.860148803277517,-2.615781437562788,2.8937861370019418,-1.612155894202653,-1.1315344218194552,-2.555302135467709,-1.240071346867386,2.8775569014117806,-0.6856080886259548,-0.3720338708968372,-0.9205820964542898,-0.6350249187425775,-1.5435344903097663,-0.2980150501814664,-1.0681712577296771,-0.8446002131918939,0.5219554907682032,-0.842046358846669,1.04610398116001,-1.2429635352221873,1.5339054695093015,-1.4518701943461942,-2.0877026120226807,2.9088914780534547,-2.5565939039062933,0.16795198265659605,-0.11213813489318186,2.746356332269082,0.2584692006541959,1.8444642650971323,-0.023032814256280287,2.77446303604308,-0.5101284892827506,1.5566686189590209,-0.964135248561356,-0.6856080886259548,-0.3720338708968372,-0.7168175140089735,0.5219554907682032,-0.9525562163429028,-1.7868806018664865,0.19799548029958314,-0.43717365516287127,-1.2471986407655267,-0.7918122503235347,-0.5367425384039044,-1.2114747106682309,-1.5031592267540248,2.767975871199458,-1.4061463594888077,-0.4961914805989491,-0.7087495269824473,-0.48254867353257264,-0.298651903660154,-1.7941061941251197,-0.2712471459871797,-1.3384757005680061,-1.017459100496517,-1.7258303323384439,0.2689140595347538,-1.5569295769290812,-1.099048673200089,-1.1315344218194552,-0.8446002131918939,-0.11213813489318186,-0.7168175140089735,2.767975871199458,0.2689140595347538,1.8897253202462168,-1.0310158426408165,1.8897253202462168,2.781426275296785,-0.7871797277152865,2.741133902828803,0.3270906045470826,1.8688356024851007,2.6715015102917503,0.2532467712139169,1.8514275043508375,-0.9362822915465349,2.87441901657764,-1.0310158426408165,-0.7046318453149892,2.72372580469454,2.7853839693337212,0.32360898492023005,1.933975386751135,-0.7290031827029578,2.6941320378662925,-1.6191191334563584,-0.3519801543976823,-0.0021430964951643663,2.781426275296785,-2.037219127433317,2.9461783053046675,-2.584446860921114,0.1644703630297435,-1.256890013729598,1.535646279322728,-1.6469720904711795,-0.37635149178565086,2.9357334464241096,-2.5280111257222115,-0.7871797277152865,2.897267756628794,-2.6047746314129063,0.2290207160237263,-1.1714499429744991,1.5286830400690226,-1.6191191334563584,-0.27639551125109046,2.928770207170404,-2.5645681318041644,2.8937861370019418,-0.2980150501814664,2.741133902828803,-2.555302135467709,-1.240071346867386,2.8775569014117806,-0.6856080886259548,-0.3720338708968372,-0.9892035003471767,-0.7036463226354642,-1.612155894202653,-0.2980150501814664,-1.0681712577296771,0.3270906045470826,0.5219554907682032,-0.842046358846669,1.04610398116001,-1.2429635352221873,1.5339054695093015,-1.4692782924804575,-2.0877026120226807,2.9775128819463412,-2.5565939039062933,0.23657338654948273,1.8688356024851007,2.746356332269082,0.3270906045470826,1.8444642650971323,-0.023032814256280287,2.8430844399359665,-0.4415070853898639,1.5566686189590209,-0.964135248561356,-0.6856080886259548,-0.3720338708968372,2.6715015102917503,0.5219554907682032,-0.9525562163429028,-1.7868806018664865,0.19799548029958314,-0.43717365516287127,-1.2471986407655267,-0.7918122503235347,-0.5367425384039044,-1.2114747106682309,-1.5031592267540248,0.2532467712139169,-1.4061463594888077,-0.4961914805989491,-0.7087495269824473,-0.48254867353257264,-0.298651903660154,-1.725484790232233,-0.20262574209429296,-1.3384757005680061,-1.017459100496517,-1.7258303323384439,1.8514275043508375,-1.5569295769290812,-1.099048673200089,-1.1315344218194552,-0.8446002131918939,-0.11213813489318186,-0.7168175140089735,2.767975871199458,0.2689140595347538,1.8897253202462168,-1.0310158426408165,-0.9362822915465349,2.781426275296785,-0.7871797277152865,2.741133902828803,0.3270906045470826,1.8688356024851007,2.6715015102917503,0.2532467712139169,1.8514275043508375,-0.9362822915465349,2.87441901657764,2.87441901657764,-0.7046318453149892,2.72372580469454,2.7853839693337212,0.32360898492023005,1.933975386751135,-0.7290031827029578,2.6941320378662925,-1.6191191334563584,-0.3519801543976823,-0.0021430964951643663,-0.7046318453149892,-2.037219127433317,2.9461783053046675,-2.584446860921114,0.1644703630297435,-1.256890013729598,1.535646279322728,-1.6469720904711795,-0.37635149178565086,2.9357334464241096,-2.5280111257222115,2.72372580469454,2.897267756628794,-2.6047746314129063,0.2290207160237263,-1.1714499429744991,1.5286830400690226,-1.6191191334563584,-0.27639551125109046,2.928770207170404,-2.5645681318041644,2.8937861370019418,-1.0681712577296771,2.7853839693337212,-2.555302135467709,-1.240071346867386,2.8775569014117806,-0.6856080886259548,-0.3720338708968372,-0.9892035003471767,-0.7036463226354642,-1.612155894202653,-0.2980150501814664,-1.0681712577296771,0.32360898492023005,0.5219554907682032,-0.842046358846669,1.04610398116001,-1.2429635352221873,1.5339054695093015,-1.4692782924804575,-2.0877026120226807,2.9775128819463412,-2.5565939039062933,0.23657338654948273,1.933975386751135,2.746356332269082,0.3270906045470826,1.8444642650971323,-0.023032814256280287,2.8430844399359665,-0.4415070853898639,1.5566686189590209,-0.964135248561356,-0.6856080886259548,-0.3720338708968372,-0.7290031827029578,0.5219554907682032,-0.9525562163429028,-1.7868806018664865,0.19799548029958314,-0.43717365516287127,-1.2471986407655267,-0.7918122503235347,-0.5367425384039044,-1.2114747106682309,-1.5031592267540248,2.6941320378662925,-1.4061463594888077,-0.4961914805989491,-0.7087495269824473,-0.48254867353257264,-0.298651903660154,-1.725484790232233,-0.20262574209429296,-1.3384757005680061,-1.017459100496517,-1.7258303323384439,-1.6191191334563584,-1.5569295769290812,-1.099048673200089,-1.1315344218194552,-0.8446002131918939,-0.11213813489318186,-0.7168175140089735,2.767975871199458,0.2689140595347538,1.8897253202462168,-1.0310158426408165,-0.3519801543976823,2.781426275296785,-0.7871797277152865,2.741133902828803,0.3270906045470826,1.8688356024851007,2.6715015102917503,0.2532467712139169,1.8514275043508375,-0.9362822915465349,2.87441901657764,-0.0021430964951643663,-0.7046318453149892,2.72372580469454,2.7853839693337212,0.32360898492023005,1.933975386751135,-0.7290031827029578,2.6941320378662925,-1.6191191334563584,-0.3519801543976823,-0.0021430964951643663,-2.037219127433317,-2.037219127433317,2.9461783053046675,-2.584446860921114,0.1644703630297435,-1.256890013729598,1.535646279322728,-1.6469720904711795,-0.37635149178565086,2.9357334464241096,-2.5280111257222115,2.9461783053046675,2.897267756628794,-2.6047746314129063,0.2290207160237263,-1.1714499429744991,1.5286830400690226,-1.6191191334563584,-0.27639551125109046,2.928770207170404,-2.5645681318041644,2.8937861370019418,0.5219554907682032,-2.584446860921114,-2.555302135467709,-1.240071346867386,2.8775569014117806,-0.6856080886259548,-0.3720338708968372,-0.9892035003471767,-0.7036463226354642,-1.612155894202653,-0.2980150501814664,-1.0681712577296771,0.1644703630297435,0.5219554907682032,-0.842046358846669,1.04610398116001,-1.2429635352221873,1.5339054695093015,-1.4692782924804575,-2.0877026120226807,2.9775128819463412,-2.5565939039062933,0.23657338654948273,-1.256890013729598,2.746356332269082,0.3270906045470826,1.8444642650971323,-0.023032814256280287,2.8430844399359665,-0.4415070853898639,1.5566686189590209,-0.964135248561356,-0.6856080886259548,-0.3720338708968372,1.535646279322728,0.5219554907682032,-0.9525562163429028,-1.7868806018664865,0.19799548029958314,-0.43717365516287127,-1.2471986407655267,-0.7918122503235347,-0.5367425384039044,-1.2114747106682309,-1.5031592267540248,-1.6469720904711795,-1.4061463594888077,-0.4961914805989491,-0.7087495269824473,-0.48254867353257264,-0.298651903660154,-1.725484790232233,-0.20262574209429296,-1.3384757005680061,-1.017459100496517,-1.7258303323384439,-0.37635149178565086,-1.5569295769290812,-1.099048673200089,-1.1315344218194552,-0.8446002131918939,-0.11213813489318186,-0.7168175140089735,2.767975871199458,0.2689140595347538,1.8897253202462168,-1.0310158426408165,2.9357334464241096,2.781426275296785,-0.7871797277152865,2.741133902828803,0.3270906045470826,1.8688356024851007,2.6715015102917503,0.2532467712139169,1.8514275043508375,-0.9362822915465349,2.87441901657764,-2.5280111257222115,-0.7046318453149892,2.72372580469454,2.7853839693337212,0.32360898492023005,1.933975386751135,-0.7290031827029578,2.6941320378662925,-1.6191191334563584,-0.3519801543976823,-0.0021430964951643663,2.897267756628794,-2.037219127433317,2.9461783053046675,-2.584446860921114,0.1644703630297435,-1.256890013729598,1.535646279322728,-1.6469720904711795,-0.37635149178565086,2.9357334464241096,-2.5280111257222115,-2.6047746314129063,2.897267756628794,-2.6047746314129063,0.2290207160237263,-1.1714499429744991,1.5286830400690226,-1.6191191334563584,-0.27639551125109046,2.928770207170404,-2.5645681318041644,2.8937861370019418,-0.842046358846669,0.2290207160237263,-2.555302135467709,-1.240071346867386,2.9461783053046675,-0.6856080886259548,-0.3720338708968372,-0.9892035003471767,-0.7036463226354642,-1.612155894202653,-0.2980150501814664,-1.0681712577296771,-1.1714499429744991,0.5219554907682032,-0.842046358846669,1.04610398116001,-1.2429635352221873,1.5339054695093015,-1.4692782924804575,-2.0877026120226807,2.9775128819463412,-2.5565939039062933,0.23657338654948273,1.5286830400690226,2.746356332269082,0.3270906045470826,1.8444642650971323,-0.023032814256280287,2.8430844399359665,-0.4415070853898639,1.5566686189590209,-0.964135248561356,-0.6856080886259548,-0.3720338708968372,-1.6191191334563584,0.5219554907682032,-0.9525562163429028,-1.7868806018664865,0.19799548029958314,-0.43717365516287127,-1.2471986407655267,-0.7918122503235347,-0.5367425384039044,-1.2114747106682309,-1.5031592267540248,-0.27639551125109046,-1.4061463594888077,-0.4961914805989491,-0.7087495269824473,-0.48254867353257264,-0.298651903660154,-1.725484790232233,-0.20262574209429296,-1.3384757005680061,-1.017459100496517,-1.7258303323384439,2.928770207170404,-1.5569295769290812,-1.099048673200089,-1.1315344218194552,-0.8446002131918939,-0.11213813489318186,-0.7168175140089735,2.767975871199458,0.2689140595347538,1.8897253202462168,-1.0310158426408165,-2.5645681318041644,2.781426275296785,-0.7871797277152865,2.741133902828803,0.3270906045470826,1.8688356024851007,2.6715015102917503,0.2532467712139169,1.8514275043508375,-0.9362822915465349,2.87441901657764,2.8937861370019418,-0.7046318453149892,2.72372580469454,2.7853839693337212,0.32360898492023005,1.933975386751135,-0.7290031827029578,2.6941320378662925,-1.6191191334563584,-0.6856080886259548,-0.40583907852119755,-2.555302135467709,0.49859514202440086,2.9461783053046675,-2.584446860921114,0.1644703630297435,1.8566499337911166,-0.7993653964092708,-1.6469720904711795,-0.37635149178565086,2.9357334464241096,-2.5280111257222115,-1.240071346867386,2.897267756628794,-2.6047746314129063,0.2290207160237263,-1.1714499429744991,1.5286830400690226,-1.6191191334563584,-0.27639551125109046,2.928770207170404,-2.5645681318041644,2.8937861370019418],\"z\":[0.05614071663455353,0.4915029105156734,0.42940837131949183,0.9458776213372654,-0.5326764405762218,0.42940837131949183,-0.1944435573391191,0.21857177998698277,-1.6071563339359363,0.31408544571744335,1.4895977493744432,0.11172081194154529,2.231947313015705,1.031468236621707,-0.7885147196933429,-1.564889257267258,0.4915029105156734,1.031468236621707,1.39264013092992,0.3858317208033939,0.2853361604354606,0.18759829190772348,-0.6730635535666869,-1.098115489423225,1.39264013092992,-3.1572888111074766,1.8289297148453578,1.8869860283460549,1.0408817563816728,1.6944651846302996,2.8796317011867845,0.685324078320365,-2.1791874559753595,0.05614071663455353,0.24489436367269504,0.3858317208033939,-0.7885147196933429,-2.710318265973497,-1.8858165707935135,-0.4122171654270634,0.22734597454888686,0.3353877454301189,-0.09333774249886598,-1.949337273993241,-1.3057163505158484,-1.5827445162137161,0.2853361604354606,-0.45352428640158327,-0.768653238519727,-0.2822068211130584,-0.6843558641644873,-0.448679328008066,-0.5836611828364932,-0.4804125036150914,-0.9501405979297134,-0.5333317054493472,-1.0069681699537403,0.18759829190772348,-0.23825913179374436,0.505393098962797,-0.986003570376914,-1.1840389028615312,-0.3053359481863466,1.2904296718814332,-2.9203855579360667,1.8601591247714284,1.5749823924390536,-2.1879616505372637,-0.6730635535666869,1.6593684063826832,1.383078443740832,-3.1309662274217644,1.8289297148453578,1.7641473044793976,-2.7799984449456017,1.939126875828565,1.8518892500984385,-2.23569999166833,1.5365296825160262,-1.098115489423225,1.2290103099481045,-3.0432242818027238,-3.0920020808526023,1.8464781039691658,1.6978211163057109,1.3518490338147617,-2.8940629742503545,1.4895977493744432,0.4675954206580665,0.9355914216388238,-3.1572888111074766,0.030884518140242307,0.3455337940219968,-0.6165510178737167,-0.9966925230019219,1.1016617931169397,1.3838659363680157,1.6299848623649085,0.5904341445247236,0.39817896139342124,-0.5551316559403882,1.8289297148453578,0.18803358425537625,-0.5722447527165436,-1.131060937336242,0.8620030440397703,1.418962714615632,1.4895977493744432,0.3486240651129552,0.4332757396410376,-0.37087357014040245,0.20558197337918432,0.24489436367269504,1.8869860283460549,-0.5596031898330937,0.9458776213372654,0.3455337940219968,0.05614071663455353,0.24489436367269504,-1.6071563339359363,0.3969205650961258,1.4545009711268269,0.1955953892390402,2.3158218903132,1.0408817563816728,-0.7885147196933429,-1.564889257267258,0.4915029105156734,1.031468236621707,1.39264013092992,0.3858317208033939,0.2853361604354606,0.18759829190772348,-0.6730635535666869,-1.098115489423225,1.6944651846302996,-3.1572888111074766,1.8289297148453578,1.8869860283460549,1.0408817563816728,1.6944651846302996,2.8796317011867845,0.685324078320365,-2.1791874559753595,0.05614071663455353,0.24489436367269504,2.8796317011867845,-0.7885147196933429,-2.710318265973497,-1.8858165707935135,-0.4122171654270634,0.31122055184638187,0.41926232272761377,-0.09333774249886598,-1.949337273993241,-1.3895909278133436,-1.5827445162137161,0.685324078320365,-0.45352428640158327,-0.768653238519727,-0.2822068211130584,-0.6843558641644873,-0.448679328008066,-0.5836611828364932,-0.4804125036150914,-0.9501405979297134,-0.5333317054493472,-0.9230935926562455,-2.1791874559753595,-0.15438455449624938,0.589267676260292,-0.9021289930794191,-1.1001643255640363,-0.3053359481863466,1.2904296718814332,-3.0042601352335616,1.8601591247714284,1.6588569697365487,-2.1040870732397687,0.05614071663455353,1.7432429836801782,1.383078443740832,-3.1309662274217644,1.8289297148453578,1.7641473044793976,-2.7799984449456017,1.939126875828565,1.8518892500984385,-2.3195745689658254,1.5365296825160262,0.24489436367269504,1.2290103099481045,-3.0432242818027238,-3.0920020808526023,1.8464781039691658,1.6978211163057109,1.3518490338147617,-2.8940629742503545,1.4895977493744432,0.4675954206580665,0.9355914216388238,-0.7885147196933429,0.030884518140242307,0.3455337940219968,-0.5326764405762218,-0.9966925230019219,1.1016617931169397,1.3838659363680157,1.6299848623649085,0.5904341445247236,0.39817896139342124,-0.5551316559403882,-2.710318265973497,0.18803358425537625,-0.5722447527165436,-1.131060937336242,0.8620030440397703,1.418962714615632,1.4895977493744432,0.3486240651129552,0.4332757396410376,-0.37087357014040245,0.20558197337918432,-1.5232817566384413,-1.8858165707935135,-0.5596031898330937,0.9458776213372654,0.42940837131949183,0.05614071663455353,0.24489436367269504,-1.5232817566384413,0.4807951423936209,1.4545009711268269,0.1955953892390402,2.3158218903132,-0.4122171654270634,-0.7885147196933429,-1.564889257267258,0.4915029105156734,1.031468236621707,1.39264013092992,0.3858317208033939,0.2853361604354606,0.18759829190772348,-0.6730635535666869,-1.098115489423225,0.31122055184638187,-3.1572888111074766,1.8289297148453578,1.8869860283460549,1.0408817563816728,1.6944651846302996,2.8796317011867845,0.685324078320365,-2.1791874559753595,0.05614071663455353,0.24489436367269504,0.41926232272761377,-0.7885147196933429,-2.710318265973497,-1.8858165707935135,-0.4122171654270634,0.31122055184638187,0.41926232272761377,-0.09333774249886598,-1.949337273993241,-1.3895909278133436,-1.5827445162137161,-0.09333774249886598,-0.45352428640158327,-0.768653238519727,-0.2822068211130584,-0.6843558641644873,-0.448679328008066,-0.5836611828364932,-0.4804125036150914,-0.9501405979297134,-0.5333317054493472,-0.9230935926562455,-1.949337273993241,-0.15438455449624938,0.589267676260292,-0.9021289930794191,-1.1001643255640363,-0.3053359481863466,1.2904296718814332,-3.0042601352335616,1.8601591247714284,1.6588569697365487,-2.1040870732397687,-1.3895909278133436,1.7432429836801782,1.383078443740832,-3.1309662274217644,1.8289297148453578,1.7641473044793976,-2.7799984449456017,1.939126875828565,1.8518892500984385,-2.3195745689658254,1.5365296825160262,-1.5827445162137161,1.2290103099481045,-3.0432242818027238,-3.0920020808526023,1.8464781039691658,1.6978211163057109,1.3518490338147617,-2.8940629742503545,1.4895977493744432,0.4675954206580665,0.9355914216388238,-0.45352428640158327,0.030884518140242307,0.3455337940219968,-0.5326764405762218,-0.9966925230019219,1.1016617931169397,1.3838659363680157,1.6299848623649085,0.5904341445247236,0.39817896139342124,-0.5551316559403882,-0.768653238519727,0.18803358425537625,-0.5722447527165436,-1.131060937336242,0.8620030440397703,1.418962714615632,1.4895977493744432,0.3486240651129552,0.4332757396410376,-0.37087357014040245,0.20558197337918432,0.4807951423936209,-0.2822068211130584,-0.5596031898330937,0.9458776213372654,0.42940837131949183,0.05614071663455353,0.24489436367269504,-1.5232817566384413,0.4807951423936209,1.4545009711268269,0.1955953892390402,2.3158218903132,-0.6843558641644873,-0.7885147196933429,-1.564889257267258,0.4915029105156734,1.031468236621707,1.39264013092992,0.3858317208033939,0.2853361604354606,0.18759829190772348,-0.6730635535666869,-1.098115489423225,-0.448679328008066,-3.1572888111074766,1.8289297148453578,1.8869860283460549,1.0408817563816728,1.6944651846302996,2.8796317011867845,0.685324078320365,-2.1791874559753595,0.05614071663455353,0.24489436367269504,-0.5836611828364932,-0.7885147196933429,-2.710318265973497,-1.8858165707935135,-0.32834258812956835,0.31122055184638187,0.41926232272761377,-0.09333774249886598,-1.949337273993241,-1.3895909278133436,-1.5827445162137161,-0.4804125036150914,-0.45352428640158327,-0.768653238519727,-0.16814229180830534,-0.859839755402569,-0.6241632192461477,-0.7591450740745748,-0.6558963948531733,-0.9501405979297134,-0.5333317054493472,-0.9230935926562455,-0.9501405979297134,-0.15438455449624938,0.589267676260292,-0.9021289930794191,-1.1001643255640363,-0.3053359481863466,1.2904296718814332,-3.0042601352335616,1.8601591247714284,1.6588569697365487,-2.1040870732397687,-0.5333317054493472,1.6593684063826832,1.383078443740832,-3.1309662274217644,1.7411877692263167,1.7641473044793976,-2.8677403905646424,1.939126875828565,1.8518892500984385,-2.3195745689658254,1.5365296825160262,-0.9230935926562455,1.2290103099481045,-3.0432242818027238,-3.0920020808526023,1.758736158350125,1.522337225067629,1.4357236111122567,-2.981804919869395,1.4018558037554023,0.4675954206580665,0.9355914216388238,-0.15438455449624938,-0.05685742747879816,0.341666425700451,-0.5326764405762218,-1.0844344686209626,1.013919847497899,1.3838659363680157,1.6299848623649085,0.5904341445247236,0.39431159307187547,-0.4712570786428932,0.589267676260292,0.18803358425537625,-0.5722447527165436,-1.1349283056577877,0.9458776213372654,1.418962714615632,1.4895977493744432,0.4324986424104502,0.5171503169385328,-0.3747409384619482,0.20558197337918432,1.4545009711268269,-0.9021289930794191,-0.5596031898330937,0.9458776213372654,0.42940837131949183,0.05614071663455353,0.24489436367269504,-1.6071563339359363,0.3969205650961258,1.370626393829332,0.1955953892390402,2.3158218903132,-1.1001643255640363,-0.7885147196933429,-1.564889257267258,0.4915029105156734,1.031468236621707,1.39264013092992,0.2980897751843531,0.2853361604354606,0.2714728692052184,-0.6730635535666869,-1.0142409121257299,-0.3053359481863466,-3.1572888111074766,1.9128042921428527,1.8869860283460549,1.0408817563816728,1.7783397619277945,2.9635062784842794,0.685324078320365,-2.1791874559753595,0.05614071663455353,0.24489436367269504,1.2904296718814332,-0.7885147196933429,-2.710318265973497,-1.8858165707935135,-0.4122171654270634,0.31122055184638187,0.41926232272761377,-0.09333774249886598,-1.949337273993241,-1.3895909278133436,-1.5827445162137161,-3.0042601352335616,-0.45352428640158327,-0.768653238519727,-0.2822068211130584,-0.6843558641644873,-0.448679328008066,-0.4997866055389982,-0.3965379263175969,-0.9501405979297134,-0.5333317054493472,-0.9230935926562455,1.8601591247714284,-0.15438455449624938,0.589267676260292,-0.9021289930794191,-1.1001643255640363,-0.3053359481863466,1.2904296718814332,-3.0042601352335616,1.8601591247714284,1.6588569697365487,-2.1040870732397687,1.6588569697365487,1.7432429836801782,1.383078443740832,-3.1309662274217644,1.8289297148453578,1.7641473044793976,-2.7799984449456017,1.939126875828565,1.8518892500984385,-2.3195745689658254,1.5365296825160262,-2.1040870732397687,1.2290103099481045,-3.0432242818027238,-3.0920020808526023,1.8464781039691658,1.6978211163057109,1.3518490338147617,-2.8940629742503545,1.4895977493744432,0.4675954206580665,0.9355914216388238,1.7432429836801782,0.030884518140242307,0.3455337940219968,-0.5326764405762218,-0.9966925230019219,1.1016617931169397,1.3838659363680157,1.6299848623649085,0.5904341445247236,0.39817896139342124,-0.5551316559403882,1.383078443740832,0.18803358425537625,-0.5722447527165436,-1.131060937336242,0.8620030440397703,1.418962714615632,1.4895977493744432,0.3486240651129552,0.4332757396410376,-0.37087357014040245,0.20558197337918432,0.1955953892390402,-3.1309662274217644,-0.5596031898330937,0.9458776213372654,0.42940837131949183,0.05614071663455353,0.24489436367269504,-1.5232817566384413,0.4807951423936209,1.4545009711268269,0.1955953892390402,2.3158218903132,1.8289297148453578,-0.7885147196933429,-1.564889257267258,0.4915029105156734,1.031468236621707,1.39264013092992,0.3858317208033939,0.2853361604354606,0.18759829190772348,-0.6730635535666869,-1.098115489423225,1.7641473044793976,-3.1572888111074766,1.8289297148453578,1.8869860283460549,1.0408817563816728,1.6944651846302996,2.8796317011867845,0.685324078320365,-2.1791874559753595,0.05614071663455353,0.24489436367269504,-2.7799984449456017,-0.7885147196933429,-2.710318265973497,-1.8858165707935135,-0.4122171654270634,0.31122055184638187,0.41926232272761377,-0.09333774249886598,-1.949337273993241,-1.3895909278133436,-1.5827445162137161,1.939126875828565,-0.45352428640158327,-0.768653238519727,-0.2822068211130584,-0.6843558641644873,-0.448679328008066,-0.5836611828364932,-0.4804125036150914,-0.9501405979297134,-0.5333317054493472,-0.9230935926562455,1.8518892500984385,-0.15438455449624938,0.589267676260292,-0.9021289930794191,-1.1001643255640363,-0.3053359481863466,1.2904296718814332,-3.0042601352335616,1.8601591247714284,1.6588569697365487,-2.1040870732397687,-2.3195745689658254,1.7432429836801782,1.383078443740832,-3.1309662274217644,1.8289297148453578,1.7641473044793976,-2.7799984449456017,1.939126875828565,1.8518892500984385,-2.3195745689658254,1.5365296825160262,1.5365296825160262,1.2290103099481045,-3.0432242818027238,-3.0920020808526023,1.8464781039691658,1.6978211163057109,1.3518490338147617,-2.8940629742503545,1.4895977493744432,0.4675954206580665,0.9355914216388238,1.2290103099481045,0.030884518140242307,0.3455337940219968,-0.5326764405762218,-0.9966925230019219,1.1016617931169397,1.3838659363680157,1.6299848623649085,0.5904341445247236,0.39817896139342124,-0.5551316559403882,-3.0432242818027238,0.18803358425537625,-0.5722447527165436,-1.131060937336242,0.8620030440397703,1.418962714615632,1.4895977493744432,0.3486240651129552,0.4332757396410376,-0.37087357014040245,0.20558197337918432,2.3158218903132,-3.0920020808526023,-0.5596031898330937,0.9458776213372654,0.42940837131949183,0.05614071663455353,0.24489436367269504,-1.5232817566384413,0.4807951423936209,1.4545009711268269,0.1955953892390402,2.3158218903132,1.8464781039691658,-0.7885147196933429,-1.564889257267258,0.4915029105156734,1.031468236621707,1.39264013092992,0.3858317208033939,0.2853361604354606,0.18759829190772348,-0.6730635535666869,-1.098115489423225,1.6978211163057109,-3.1572888111074766,1.8289297148453578,1.8869860283460549,1.0408817563816728,1.6944651846302996,2.8796317011867845,0.685324078320365,-2.1791874559753595,0.05614071663455353,0.24489436367269504,1.3518490338147617,-0.7885147196933429,-2.710318265973497,-1.8858165707935135,-0.4122171654270634,0.31122055184638187,0.41926232272761377,-0.09333774249886598,-1.949337273993241,-1.3895909278133436,-1.5827445162137161,-2.8940629742503545,-0.45352428640158327,-0.768653238519727,-0.2822068211130584,-0.6843558641644873,-0.448679328008066,-0.5836611828364932,-0.4804125036150914,-0.9501405979297134,-0.5333317054493472,-0.9230935926562455,1.4895977493744432,-0.15438455449624938,0.589267676260292,-0.9021289930794191,-1.1001643255640363,-0.3053359481863466,1.2904296718814332,-3.0042601352335616,1.8601591247714284,1.6588569697365487,-2.1040870732397687,0.4675954206580665,1.7432429836801782,1.383078443740832,-3.1309662274217644,1.8289297148453578,1.7641473044793976,-2.7799984449456017,1.939126875828565,1.8518892500984385,-2.3195745689658254,1.5365296825160262,0.9355914216388238,1.2290103099481045,-3.0432242818027238,-3.0920020808526023,1.8464781039691658,1.6978211163057109,1.3518490338147617,-2.8940629742503545,1.4895977493744432,0.4675954206580665,0.9355914216388238,0.030884518140242307,0.030884518140242307,0.3455337940219968,-0.5326764405762218,-0.9966925230019219,1.1016617931169397,1.3838659363680157,1.6299848623649085,0.5904341445247236,0.39817896139342124,-0.5551316559403882,0.3455337940219968,0.18803358425537625,-0.5722447527165436,-1.131060937336242,0.8620030440397703,1.418962714615632,1.4895977493744432,0.3486240651129552,0.4332757396410376,-0.37087357014040245,0.20558197337918432,-0.7885147196933429,-0.5326764405762218,-0.5596031898330937,0.9458776213372654,0.42940837131949183,0.05614071663455353,0.24489436367269504,-1.5232817566384413,0.4807951423936209,1.4545009711268269,0.1955953892390402,2.3158218903132,-0.9966925230019219,-0.7885147196933429,-1.564889257267258,0.4915029105156734,1.031468236621707,1.39264013092992,0.3858317208033939,0.2853361604354606,0.18759829190772348,-0.6730635535666869,-1.098115489423225,1.1016617931169397,-3.1572888111074766,1.8289297148453578,1.8869860283460549,1.0408817563816728,1.6944651846302996,2.8796317011867845,0.685324078320365,-2.1791874559753595,0.05614071663455353,0.24489436367269504,1.3838659363680157,-0.7885147196933429,-2.710318265973497,-1.8858165707935135,-0.4122171654270634,0.31122055184638187,0.41926232272761377,-0.09333774249886598,-1.949337273993241,-1.3895909278133436,-1.5827445162137161,1.6299848623649085,-0.45352428640158327,-0.768653238519727,-0.2822068211130584,-0.6843558641644873,-0.448679328008066,-0.5836611828364932,-0.4804125036150914,-0.9501405979297134,-0.5333317054493472,-0.9230935926562455,0.5904341445247236,-0.15438455449624938,0.589267676260292,-0.9021289930794191,-1.1001643255640363,-0.3053359481863466,1.2904296718814332,-3.0042601352335616,1.8601591247714284,1.6588569697365487,-2.1040870732397687,0.39817896139342124,1.7432429836801782,1.383078443740832,-3.1309662274217644,1.8289297148453578,1.7641473044793976,-2.7799984449456017,1.939126875828565,1.8518892500984385,-2.3195745689658254,1.5365296825160262,-0.5551316559403882,1.2290103099481045,-3.0432242818027238,-3.0920020808526023,1.8464781039691658,1.6978211163057109,1.3518490338147617,-2.8940629742503545,1.4895977493744432,0.4675954206580665,0.9355914216388238,0.18803358425537625,0.030884518140242307,0.3455337940219968,-0.5326764405762218,-0.9966925230019219,1.1016617931169397,1.3838659363680157,1.6299848623649085,0.5904341445247236,0.39817896139342124,-0.5551316559403882,-0.5722447527165436,0.18803358425537625,-0.5722447527165436,-1.131060937336242,0.8620030440397703,1.418962714615632,1.4895977493744432,0.3486240651129552,0.4332757396410376,-0.37087357014040245,0.20558197337918432,-1.564889257267258,-1.131060937336242,-0.5596031898330937,0.9458776213372654,0.3455337940219968,0.05614071663455353,0.24489436367269504,-1.5232817566384413,0.4807951423936209,1.4545009711268269,0.1955953892390402,2.3158218903132,0.8620030440397703,-0.7885147196933429,-1.564889257267258,0.4915029105156734,1.031468236621707,1.39264013092992,0.3858317208033939,0.2853361604354606,0.18759829190772348,-0.6730635535666869,-1.098115489423225,1.418962714615632,-3.1572888111074766,1.8289297148453578,1.8869860283460549,1.0408817563816728,1.6944651846302996,2.8796317011867845,0.685324078320365,-2.1791874559753595,0.05614071663455353,0.24489436367269504,1.4895977493744432,-0.7885147196933429,-2.710318265973497,-1.8858165707935135,-0.4122171654270634,0.31122055184638187,0.41926232272761377,-0.09333774249886598,-1.949337273993241,-1.3895909278133436,-1.5827445162137161,0.3486240651129552,-0.45352428640158327,-0.768653238519727,-0.2822068211130584,-0.6843558641644873,-0.448679328008066,-0.5836611828364932,-0.4804125036150914,-0.9501405979297134,-0.5333317054493472,-0.9230935926562455,0.4332757396410376,-0.15438455449624938,0.589267676260292,-0.9021289930794191,-1.1001643255640363,-0.3053359481863466,1.2904296718814332,-3.0042601352335616,1.8601591247714284,1.6588569697365487,-2.1040870732397687,-0.37087357014040245,1.7432429836801782,1.383078443740832,-3.1309662274217644,1.8289297148453578,1.7641473044793976,-2.7799984449456017,1.939126875828565,1.8518892500984385,-2.3195745689658254,1.5365296825160262,0.20558197337918432,1.2290103099481045,-3.0432242818027238,-3.0920020808526023,1.8464781039691658,1.6978211163057109,1.3518490338147617,-2.8940629742503545,1.4895977493744432,0.05614071663455353,0.15328504973210846,-0.5596031898330937,-0.932769201005354,0.3455337940219968,-0.5326764405762218,-0.9966925230019219,1.8255666664127261,1.4444978056741609,1.6299848623649085,0.5904341445247236,0.39817896139342124,-0.5551316559403882,0.9458776213372654,0.18803358425537625,-0.5722447527165436,-1.131060937336242,0.8620030440397703,1.418962714615632,1.4895977493744432,0.3486240651129552,0.4332757396410376,-0.37087357014040245,0.20558197337918432],\"type\":\"scatter3d\"}],                        {\"template\":{\"data\":{\"histogram2dcontour\":[{\"type\":\"histogram2dcontour\",\"colorbar\":{\"outlinewidth\":0,\"ticks\":\"\"},\"colorscale\":[[0.0,\"#0d0887\"],[0.1111111111111111,\"#46039f\"],[0.2222222222222222,\"#7201a8\"],[0.3333333333333333,\"#9c179e\"],[0.4444444444444444,\"#bd3786\"],[0.5555555555555556,\"#d8576b\"],[0.6666666666666666,\"#ed7953\"],[0.7777777777777778,\"#fb9f3a\"],[0.8888888888888888,\"#fdca26\"],[1.0,\"#f0f921\"]]}],\"choropleth\":[{\"type\":\"choropleth\",\"colorbar\":{\"outlinewidth\":0,\"ticks\":\"\"}}],\"histogram2d\":[{\"type\":\"histogram2d\",\"colorbar\":{\"outlinewidth\":0,\"ticks\":\"\"},\"colorscale\":[[0.0,\"#0d0887\"],[0.1111111111111111,\"#46039f\"],[0.2222222222222222,\"#7201a8\"],[0.3333333333333333,\"#9c179e\"],[0.4444444444444444,\"#bd3786\"],[0.5555555555555556,\"#d8576b\"],[0.6666666666666666,\"#ed7953\"],[0.7777777777777778,\"#fb9f3a\"],[0.8888888888888888,\"#fdca26\"],[1.0,\"#f0f921\"]]}],\"heatmap\":[{\"type\":\"heatmap\",\"colorbar\":{\"outlinewidth\":0,\"ticks\":\"\"},\"colorscale\":[[0.0,\"#0d0887\"],[0.1111111111111111,\"#46039f\"],[0.2222222222222222,\"#7201a8\"],[0.3333333333333333,\"#9c179e\"],[0.4444444444444444,\"#bd3786\"],[0.5555555555555556,\"#d8576b\"],[0.6666666666666666,\"#ed7953\"],[0.7777777777777778,\"#fb9f3a\"],[0.8888888888888888,\"#fdca26\"],[1.0,\"#f0f921\"]]}],\"heatmapgl\":[{\"type\":\"heatmapgl\",\"colorbar\":{\"outlinewidth\":0,\"ticks\":\"\"},\"colorscale\":[[0.0,\"#0d0887\"],[0.1111111111111111,\"#46039f\"],[0.2222222222222222,\"#7201a8\"],[0.3333333333333333,\"#9c179e\"],[0.4444444444444444,\"#bd3786\"],[0.5555555555555556,\"#d8576b\"],[0.6666666666666666,\"#ed7953\"],[0.7777777777777778,\"#fb9f3a\"],[0.8888888888888888,\"#fdca26\"],[1.0,\"#f0f921\"]]}],\"contourcarpet\":[{\"type\":\"contourcarpet\",\"colorbar\":{\"outlinewidth\":0,\"ticks\":\"\"}}],\"contour\":[{\"type\":\"contour\",\"colorbar\":{\"outlinewidth\":0,\"ticks\":\"\"},\"colorscale\":[[0.0,\"#0d0887\"],[0.1111111111111111,\"#46039f\"],[0.2222222222222222,\"#7201a8\"],[0.3333333333333333,\"#9c179e\"],[0.4444444444444444,\"#bd3786\"],[0.5555555555555556,\"#d8576b\"],[0.6666666666666666,\"#ed7953\"],[0.7777777777777778,\"#fb9f3a\"],[0.8888888888888888,\"#fdca26\"],[1.0,\"#f0f921\"]]}],\"surface\":[{\"type\":\"surface\",\"colorbar\":{\"outlinewidth\":0,\"ticks\":\"\"},\"colorscale\":[[0.0,\"#0d0887\"],[0.1111111111111111,\"#46039f\"],[0.2222222222222222,\"#7201a8\"],[0.3333333333333333,\"#9c179e\"],[0.4444444444444444,\"#bd3786\"],[0.5555555555555556,\"#d8576b\"],[0.6666666666666666,\"#ed7953\"],[0.7777777777777778,\"#fb9f3a\"],[0.8888888888888888,\"#fdca26\"],[1.0,\"#f0f921\"]]}],\"mesh3d\":[{\"type\":\"mesh3d\",\"colorbar\":{\"outlinewidth\":0,\"ticks\":\"\"}}],\"scatter\":[{\"fillpattern\":{\"fillmode\":\"overlay\",\"size\":10,\"solidity\":0.2},\"type\":\"scatter\"}],\"parcoords\":[{\"type\":\"parcoords\",\"line\":{\"colorbar\":{\"outlinewidth\":0,\"ticks\":\"\"}}}],\"scatterpolargl\":[{\"type\":\"scatterpolargl\",\"marker\":{\"colorbar\":{\"outlinewidth\":0,\"ticks\":\"\"}}}],\"bar\":[{\"error_x\":{\"color\":\"#2a3f5f\"},\"error_y\":{\"color\":\"#2a3f5f\"},\"marker\":{\"line\":{\"color\":\"#E5ECF6\",\"width\":0.5},\"pattern\":{\"fillmode\":\"overlay\",\"size\":10,\"solidity\":0.2}},\"type\":\"bar\"}],\"scattergeo\":[{\"type\":\"scattergeo\",\"marker\":{\"colorbar\":{\"outlinewidth\":0,\"ticks\":\"\"}}}],\"scatterpolar\":[{\"type\":\"scatterpolar\",\"marker\":{\"colorbar\":{\"outlinewidth\":0,\"ticks\":\"\"}}}],\"histogram\":[{\"marker\":{\"pattern\":{\"fillmode\":\"overlay\",\"size\":10,\"solidity\":0.2}},\"type\":\"histogram\"}],\"scattergl\":[{\"type\":\"scattergl\",\"marker\":{\"colorbar\":{\"outlinewidth\":0,\"ticks\":\"\"}}}],\"scatter3d\":[{\"type\":\"scatter3d\",\"line\":{\"colorbar\":{\"outlinewidth\":0,\"ticks\":\"\"}},\"marker\":{\"colorbar\":{\"outlinewidth\":0,\"ticks\":\"\"}}}],\"scattermapbox\":[{\"type\":\"scattermapbox\",\"marker\":{\"colorbar\":{\"outlinewidth\":0,\"ticks\":\"\"}}}],\"scatterternary\":[{\"type\":\"scatterternary\",\"marker\":{\"colorbar\":{\"outlinewidth\":0,\"ticks\":\"\"}}}],\"scattercarpet\":[{\"type\":\"scattercarpet\",\"marker\":{\"colorbar\":{\"outlinewidth\":0,\"ticks\":\"\"}}}],\"carpet\":[{\"aaxis\":{\"endlinecolor\":\"#2a3f5f\",\"gridcolor\":\"white\",\"linecolor\":\"white\",\"minorgridcolor\":\"white\",\"startlinecolor\":\"#2a3f5f\"},\"baxis\":{\"endlinecolor\":\"#2a3f5f\",\"gridcolor\":\"white\",\"linecolor\":\"white\",\"minorgridcolor\":\"white\",\"startlinecolor\":\"#2a3f5f\"},\"type\":\"carpet\"}],\"table\":[{\"cells\":{\"fill\":{\"color\":\"#EBF0F8\"},\"line\":{\"color\":\"white\"}},\"header\":{\"fill\":{\"color\":\"#C8D4E3\"},\"line\":{\"color\":\"white\"}},\"type\":\"table\"}],\"barpolar\":[{\"marker\":{\"line\":{\"color\":\"#E5ECF6\",\"width\":0.5},\"pattern\":{\"fillmode\":\"overlay\",\"size\":10,\"solidity\":0.2}},\"type\":\"barpolar\"}],\"pie\":[{\"automargin\":true,\"type\":\"pie\"}]},\"layout\":{\"autotypenumbers\":\"strict\",\"colorway\":[\"#636efa\",\"#EF553B\",\"#00cc96\",\"#ab63fa\",\"#FFA15A\",\"#19d3f3\",\"#FF6692\",\"#B6E880\",\"#FF97FF\",\"#FECB52\"],\"font\":{\"color\":\"#2a3f5f\"},\"hovermode\":\"closest\",\"hoverlabel\":{\"align\":\"left\"},\"paper_bgcolor\":\"white\",\"plot_bgcolor\":\"#E5ECF6\",\"polar\":{\"bgcolor\":\"#E5ECF6\",\"angularaxis\":{\"gridcolor\":\"white\",\"linecolor\":\"white\",\"ticks\":\"\"},\"radialaxis\":{\"gridcolor\":\"white\",\"linecolor\":\"white\",\"ticks\":\"\"}},\"ternary\":{\"bgcolor\":\"#E5ECF6\",\"aaxis\":{\"gridcolor\":\"white\",\"linecolor\":\"white\",\"ticks\":\"\"},\"baxis\":{\"gridcolor\":\"white\",\"linecolor\":\"white\",\"ticks\":\"\"},\"caxis\":{\"gridcolor\":\"white\",\"linecolor\":\"white\",\"ticks\":\"\"}},\"coloraxis\":{\"colorbar\":{\"outlinewidth\":0,\"ticks\":\"\"}},\"colorscale\":{\"sequential\":[[0.0,\"#0d0887\"],[0.1111111111111111,\"#46039f\"],[0.2222222222222222,\"#7201a8\"],[0.3333333333333333,\"#9c179e\"],[0.4444444444444444,\"#bd3786\"],[0.5555555555555556,\"#d8576b\"],[0.6666666666666666,\"#ed7953\"],[0.7777777777777778,\"#fb9f3a\"],[0.8888888888888888,\"#fdca26\"],[1.0,\"#f0f921\"]],\"sequentialminus\":[[0.0,\"#0d0887\"],[0.1111111111111111,\"#46039f\"],[0.2222222222222222,\"#7201a8\"],[0.3333333333333333,\"#9c179e\"],[0.4444444444444444,\"#bd3786\"],[0.5555555555555556,\"#d8576b\"],[0.6666666666666666,\"#ed7953\"],[0.7777777777777778,\"#fb9f3a\"],[0.8888888888888888,\"#fdca26\"],[1.0,\"#f0f921\"]],\"diverging\":[[0,\"#8e0152\"],[0.1,\"#c51b7d\"],[0.2,\"#de77ae\"],[0.3,\"#f1b6da\"],[0.4,\"#fde0ef\"],[0.5,\"#f7f7f7\"],[0.6,\"#e6f5d0\"],[0.7,\"#b8e186\"],[0.8,\"#7fbc41\"],[0.9,\"#4d9221\"],[1,\"#276419\"]]},\"xaxis\":{\"gridcolor\":\"white\",\"linecolor\":\"white\",\"ticks\":\"\",\"title\":{\"standoff\":15},\"zerolinecolor\":\"white\",\"automargin\":true,\"zerolinewidth\":2},\"yaxis\":{\"gridcolor\":\"white\",\"linecolor\":\"white\",\"ticks\":\"\",\"title\":{\"standoff\":15},\"zerolinecolor\":\"white\",\"automargin\":true,\"zerolinewidth\":2},\"scene\":{\"xaxis\":{\"backgroundcolor\":\"#E5ECF6\",\"gridcolor\":\"white\",\"linecolor\":\"white\",\"showbackground\":true,\"ticks\":\"\",\"zerolinecolor\":\"white\",\"gridwidth\":2},\"yaxis\":{\"backgroundcolor\":\"#E5ECF6\",\"gridcolor\":\"white\",\"linecolor\":\"white\",\"showbackground\":true,\"ticks\":\"\",\"zerolinecolor\":\"white\",\"gridwidth\":2},\"zaxis\":{\"backgroundcolor\":\"#E5ECF6\",\"gridcolor\":\"white\",\"linecolor\":\"white\",\"showbackground\":true,\"ticks\":\"\",\"zerolinecolor\":\"white\",\"gridwidth\":2}},\"shapedefaults\":{\"line\":{\"color\":\"#2a3f5f\"}},\"annotationdefaults\":{\"arrowcolor\":\"#2a3f5f\",\"arrowhead\":0,\"arrowwidth\":1},\"geo\":{\"bgcolor\":\"white\",\"landcolor\":\"#E5ECF6\",\"subunitcolor\":\"white\",\"showland\":true,\"showlakes\":true,\"lakecolor\":\"white\"},\"title\":{\"x\":0.05},\"mapbox\":{\"style\":\"light\"}}},\"scene\":{\"domain\":{\"x\":[0.0,1.0],\"y\":[0.0,1.0]},\"xaxis\":{\"title\":{\"text\":\"x\"}},\"yaxis\":{\"title\":{\"text\":\"y\"}},\"zaxis\":{\"title\":{\"text\":\"z\"}}},\"coloraxis\":{\"colorbar\":{\"title\":{\"text\":\"color\"}},\"colorscale\":[[0.0,\"#0d0887\"],[0.1111111111111111,\"#46039f\"],[0.2222222222222222,\"#7201a8\"],[0.3333333333333333,\"#9c179e\"],[0.4444444444444444,\"#bd3786\"],[0.5555555555555556,\"#d8576b\"],[0.6666666666666666,\"#ed7953\"],[0.7777777777777778,\"#fb9f3a\"],[0.8888888888888888,\"#fdca26\"],[1.0,\"#f0f921\"]]},\"legend\":{\"tracegroupgap\":0},\"margin\":{\"t\":60}},                        {\"responsive\": true}                    ).then(function(){\n",
              "                            \n",
              "var gd = document.getElementById('f25ddbcf-d232-42ef-9ffe-bf9eb100416a');\n",
              "var x = new MutationObserver(function (mutations, observer) {{\n",
              "        var display = window.getComputedStyle(gd).display;\n",
              "        if (!display || display === 'none') {{\n",
              "            console.log([gd, 'removed!']);\n",
              "            Plotly.purge(gd);\n",
              "            observer.disconnect();\n",
              "        }}\n",
              "}});\n",
              "\n",
              "// Listen for the removal of the full notebook cells\n",
              "var notebookContainer = gd.closest('#notebook-container');\n",
              "if (notebookContainer) {{\n",
              "    x.observe(notebookContainer, {childList: true});\n",
              "}}\n",
              "\n",
              "// Listen for the clearing of the current output cell\n",
              "var outputEl = gd.closest('.output');\n",
              "if (outputEl) {{\n",
              "    x.observe(outputEl, {childList: true});\n",
              "}}\n",
              "\n",
              "                        })                };                            </script>        </div>\n",
              "</body>\n",
              "</html>"
            ]
          },
          "metadata": {}
        }
      ]
    },
    {
      "cell_type": "markdown",
      "source": [
        "## Evaluación del modelo"
      ],
      "metadata": {
        "id": "5jKyNfFxV_hj"
      }
    },
    {
      "cell_type": "code",
      "source": [
        "cancer_data['Level_encoded'] = LabelEncoder().fit_transform(df['Level'])"
      ],
      "metadata": {
        "id": "-DQ2M5aoX1Ip"
      },
      "execution_count": null,
      "outputs": []
    },
    {
      "cell_type": "code",
      "source": [
        "conf_matrix = confusion_matrix(scaled_data_df['cluster'], cancer_data['Level_encoded'])"
      ],
      "metadata": {
        "id": "77anTfcZXhyU"
      },
      "execution_count": null,
      "outputs": []
    },
    {
      "cell_type": "code",
      "source": [
        "# Invertir la matriz de confusión para maximizar la precisión\n",
        "row_ind, col_ind = linear_sum_assignment(-conf_matrix)\n",
        "\n",
        "# Crear un mapeo óptimo\n",
        "mapping = dict(zip(col_ind, row_ind))"
      ],
      "metadata": {
        "id": "q8JXrBEXYVZM"
      },
      "execution_count": null,
      "outputs": []
    },
    {
      "cell_type": "code",
      "source": [
        "# Ajustar las etiquetas generadas por K-means con la correspondencia óptima\n",
        "y_pred_mapped = np.array([mapping[label] for label in cancer_data['Level_encoded']])"
      ],
      "metadata": {
        "id": "Ryapi2EvYXFF"
      },
      "execution_count": null,
      "outputs": []
    },
    {
      "cell_type": "code",
      "source": [
        "accuracy = accuracy_score(scaled_data_df['cluster'], y_pred_mapped)\n",
        "print(f\"Precisión después de la correspondencia óptima: {accuracy:.2f}\")"
      ],
      "metadata": {
        "colab": {
          "base_uri": "https://localhost:8080/"
        },
        "id": "YeBu1bLfYX3j",
        "outputId": "2171d9f5-1a3c-4d23-ea50-6a4340d7f3fd"
      },
      "execution_count": null,
      "outputs": [
        {
          "output_type": "stream",
          "name": "stdout",
          "text": [
            "Precisión después de la correspondencia óptima: 0.67\n"
          ]
        }
      ]
    },
    {
      "cell_type": "code",
      "source": [
        "labels = ['Low', 'Medium', 'High']\n",
        "\n",
        "# Mostrar la matriz de confusión con etiquetas personalizadas\n",
        "disp = ConfusionMatrixDisplay(confusion_matrix=conf_matrix, display_labels=labels)\n",
        "disp.plot(cmap='Blues')"
      ],
      "metadata": {
        "colab": {
          "base_uri": "https://localhost:8080/",
          "height": 466
        },
        "id": "sdiCHkJiYiBU",
        "outputId": "323ed5cf-7e8c-4b6a-eaa0-5e40d3500d4f"
      },
      "execution_count": null,
      "outputs": [
        {
          "output_type": "execute_result",
          "data": {
            "text/plain": [
              "<sklearn.metrics._plot.confusion_matrix.ConfusionMatrixDisplay at 0x7969e530dfd0>"
            ]
          },
          "metadata": {},
          "execution_count": 21
        },
        {
          "output_type": "display_data",
          "data": {
            "text/plain": [
              "<Figure size 640x480 with 2 Axes>"
            ],
            "image/png": "[encoded data removed]"
          },
          "metadata": {}
        }
      ]
    },
    {
      "cell_type": "code",
      "source": [
        "report = classification_report(scaled_data_df['cluster'], cancer_data['Level_encoded'])\n",
        "print(\"Reporte de clasificación:\\n\", report)"
      ],
      "metadata": {
        "colab": {
          "base_uri": "https://localhost:8080/"
        },
        "id": "_U3fsKPuSzRe",
        "outputId": "791f456b-fcc0-4f66-e310-3a17f911f1fe"
      },
      "execution_count": null,
      "outputs": [
        {
          "output_type": "stream",
          "name": "stdout",
          "text": [
            "Reporte de clasificación:\n",
            "               precision    recall  f1-score   support\n",
            "\n",
            "           0       0.78      0.76      0.77       375\n",
            "           1       0.93      0.64      0.76       445\n",
            "           2       0.30      0.56      0.39       180\n",
            "\n",
            "    accuracy                           0.67      1000\n",
            "   macro avg       0.67      0.65      0.64      1000\n",
            "weighted avg       0.76      0.67      0.70      1000\n",
            "\n"
          ]
        }
      ]
    },
    {
      "cell_type": "markdown",
      "source": [
        "# Agrupamiento con DBSCAN"
      ],
      "metadata": {
        "id": "MEUgSffJv_dW"
      }
    },
    {
      "cell_type": "code",
      "source": [
        "from sklearn.cluster import DBSCAN\n",
        "\n",
        "dbscan = DBSCAN(eps=.5, min_samples=20)\n",
        "dbscan.fit(scaled_data)"
      ],
      "metadata": {
        "colab": {
          "base_uri": "https://localhost:8080/",
          "height": 80
        },
        "id": "qU50pMcAx63A",
        "outputId": "3b5de645-98d3-451e-ab1a-3cf6ed5efed3"
      },
      "execution_count": null,
      "outputs": [
        {
          "output_type": "execute_result",
          "data": {
            "text/plain": [
              "DBSCAN(min_samples=20)"
            ],
            "text/html": [
              "<style>#sk-container-id-1 {\n",
              "  /* Definition of color scheme common for light and dark mode */\n",
              "  --sklearn-color-text: #000;\n",
              "  --sklearn-color-text-muted: #666;\n",
              "  --sklearn-color-line: gray;\n",
              "  /* Definition of color scheme for unfitted estimators */\n",
              "  --sklearn-color-unfitted-level-0: #fff5e6;\n",
              "  --sklearn-color-unfitted-level-1: #f6e4d2;\n",
              "  --sklearn-color-unfitted-level-2: #ffe0b3;\n",
              "  --sklearn-color-unfitted-level-3: chocolate;\n",
              "  /* Definition of color scheme for fitted estimators */\n",
              "  --sklearn-color-fitted-level-0: #f0f8ff;\n",
              "  --sklearn-color-fitted-level-1: #d4ebff;\n",
              "  --sklearn-color-fitted-level-2: #b3dbfd;\n",
              "  --sklearn-color-fitted-level-3: cornflowerblue;\n",
              "\n",
              "  /* Specific color for light theme */\n",
              "  --sklearn-color-text-on-default-background: var(--sg-text-color, var(--theme-code-foreground, var(--jp-content-font-color1, black)));\n",
              "  --sklearn-color-background: var(--sg-background-color, var(--theme-background, var(--jp-layout-color0, white)));\n",
              "  --sklearn-color-border-box: var(--sg-text-color, var(--theme-code-foreground, var(--jp-content-font-color1, black)));\n",
              "  --sklearn-color-icon: #696969;\n",
              "\n",
              "  @media (prefers-color-scheme: dark) {\n",
              "    /* Redefinition of color scheme for dark theme */\n",
              "    --sklearn-color-text-on-default-background: var(--sg-text-color, var(--theme-code-foreground, var(--jp-content-font-color1, white)));\n",
              "    --sklearn-color-background: var(--sg-background-color, var(--theme-background, var(--jp-layout-color0, #111)));\n",
              "    --sklearn-color-border-box: var(--sg-text-color, var(--theme-code-foreground, var(--jp-content-font-color1, white)));\n",
              "    --sklearn-color-icon: #878787;\n",
              "  }\n",
              "}\n",
              "\n",
              "#sk-container-id-1 {\n",
              "  color: var(--sklearn-color-text);\n",
              "}\n",
              "\n",
              "#sk-container-id-1 pre {\n",
              "  padding: 0;\n",
              "}\n",
              "\n",
              "#sk-container-id-1 input.sk-hidden--visually {\n",
              "  border: 0;\n",
              "  clip: rect(1px 1px 1px 1px);\n",
              "  clip: rect(1px, 1px, 1px, 1px);\n",
              "  height: 1px;\n",
              "  margin: -1px;\n",
              "  overflow: hidden;\n",
              "  padding: 0;\n",
              "  position: absolute;\n",
              "  width: 1px;\n",
              "}\n",
              "\n",
              "#sk-container-id-1 div.sk-dashed-wrapped {\n",
              "  border: 1px dashed var(--sklearn-color-line);\n",
              "  margin: 0 0.4em 0.5em 0.4em;\n",
              "  box-sizing: border-box;\n",
              "  padding-bottom: 0.4em;\n",
              "  background-color: var(--sklearn-color-background);\n",
              "}\n",
              "\n",
              "#sk-container-id-1 div.sk-container {\n",
              "  /* jupyter's `normalize.less` sets `[hidden] { display: none; }`\n",
              "     but bootstrap.min.css set `[hidden] { display: none !important; }`\n",
              "     so we also need the `!important` here to be able to override the\n",
              "     default hidden behavior on the sphinx rendered scikit-learn.org.\n",
              "     See: https://github.com/scikit-learn/scikit-learn/issues/21755 */\n",
              "  display: inline-block !important;\n",
              "  position: relative;\n",
              "}\n",
              "\n",
              "#sk-container-id-1 div.sk-text-repr-fallback {\n",
              "  display: none;\n",
              "}\n",
              "\n",
              "div.sk-parallel-item,\n",
              "div.sk-serial,\n",
              "div.sk-item {\n",
              "  /* draw centered vertical line to link estimators */\n",
              "  background-image: linear-gradient(var(--sklearn-color-text-on-default-background), var(--sklearn-color-text-on-default-background));\n",
              "  background-size: 2px 100%;\n",
              "  background-repeat: no-repeat;\n",
              "  background-position: center center;\n",
              "}\n",
              "\n",
              "/* Parallel-specific style estimator block */\n",
              "\n",
              "#sk-container-id-1 div.sk-parallel-item::after {\n",
              "  content: \"\";\n",
              "  width: 100%;\n",
              "  border-bottom: 2px solid var(--sklearn-color-text-on-default-background);\n",
              "  flex-grow: 1;\n",
              "}\n",
              "\n",
              "#sk-container-id-1 div.sk-parallel {\n",
              "  display: flex;\n",
              "  align-items: stretch;\n",
              "  justify-content: center;\n",
              "  background-color: var(--sklearn-color-background);\n",
              "  position: relative;\n",
              "}\n",
              "\n",
              "#sk-container-id-1 div.sk-parallel-item {\n",
              "  display: flex;\n",
              "  flex-direction: column;\n",
              "}\n",
              "\n",
              "#sk-container-id-1 div.sk-parallel-item:first-child::after {\n",
              "  align-self: flex-end;\n",
              "  width: 50%;\n",
              "}\n",
              "\n",
              "#sk-container-id-1 div.sk-parallel-item:last-child::after {\n",
              "  align-self: flex-start;\n",
              "  width: 50%;\n",
              "}\n",
              "\n",
              "#sk-container-id-1 div.sk-parallel-item:only-child::after {\n",
              "  width: 0;\n",
              "}\n",
              "\n",
              "/* Serial-specific style estimator block */\n",
              "\n",
              "#sk-container-id-1 div.sk-serial {\n",
              "  display: flex;\n",
              "  flex-direction: column;\n",
              "  align-items: center;\n",
              "  background-color: var(--sklearn-color-background);\n",
              "  padding-right: 1em;\n",
              "  padding-left: 1em;\n",
              "}\n",
              "\n",
              "\n",
              "/* Toggleable style: style used for estimator/Pipeline/ColumnTransformer box that is\n",
              "clickable and can be expanded/collapsed.\n",
              "- Pipeline and ColumnTransformer use this feature and define the default style\n",
              "- Estimators will overwrite some part of the style using the `sk-estimator` class\n",
              "*/\n",
              "\n",
              "/* Pipeline and ColumnTransformer style (default) */\n",
              "\n",
              "#sk-container-id-1 div.sk-toggleable {\n",
              "  /* Default theme specific background. It is overwritten whether we have a\n",
              "  specific estimator or a Pipeline/ColumnTransformer */\n",
              "  background-color: var(--sklearn-color-background);\n",
              "}\n",
              "\n",
              "/* Toggleable label */\n",
              "#sk-container-id-1 label.sk-toggleable__label {\n",
              "  cursor: pointer;\n",
              "  display: flex;\n",
              "  width: 100%;\n",
              "  margin-bottom: 0;\n",
              "  padding: 0.5em;\n",
              "  box-sizing: border-box;\n",
              "  text-align: center;\n",
              "  align-items: start;\n",
              "  justify-content: space-between;\n",
              "  gap: 0.5em;\n",
              "}\n",
              "\n",
              "#sk-container-id-1 label.sk-toggleable__label .caption {\n",
              "  font-size: 0.6rem;\n",
              "  font-weight: lighter;\n",
              "  color: var(--sklearn-color-text-muted);\n",
              "}\n",
              "\n",
              "#sk-container-id-1 label.sk-toggleable__label-arrow:before {\n",
              "  /* Arrow on the left of the label */\n",
              "  content: \"▸\";\n",
              "  float: left;\n",
              "  margin-right: 0.25em;\n",
              "  color: var(--sklearn-color-icon);\n",
              "}\n",
              "\n",
              "#sk-container-id-1 label.sk-toggleable__label-arrow:hover:before {\n",
              "  color: var(--sklearn-color-text);\n",
              "}\n",
              "\n",
              "/* Toggleable content - dropdown */\n",
              "\n",
              "#sk-container-id-1 div.sk-toggleable__content {\n",
              "  max-height: 0;\n",
              "  max-width: 0;\n",
              "  overflow: hidden;\n",
              "  text-align: left;\n",
              "  /* unfitted */\n",
              "  background-color: var(--sklearn-color-unfitted-level-0);\n",
              "}\n",
              "\n",
              "#sk-container-id-1 div.sk-toggleable__content.fitted {\n",
              "  /* fitted */\n",
              "  background-color: var(--sklearn-color-fitted-level-0);\n",
              "}\n",
              "\n",
              "#sk-container-id-1 div.sk-toggleable__content pre {\n",
              "  margin: 0.2em;\n",
              "  border-radius: 0.25em;\n",
              "  color: var(--sklearn-color-text);\n",
              "  /* unfitted */\n",
              "  background-color: var(--sklearn-color-unfitted-level-0);\n",
              "}\n",
              "\n",
              "#sk-container-id-1 div.sk-toggleable__content.fitted pre {\n",
              "  /* unfitted */\n",
              "  background-color: var(--sklearn-color-fitted-level-0);\n",
              "}\n",
              "\n",
              "#sk-container-id-1 input.sk-toggleable__control:checked~div.sk-toggleable__content {\n",
              "  /* Expand drop-down */\n",
              "  max-height: 200px;\n",
              "  max-width: 100%;\n",
              "  overflow: auto;\n",
              "}\n",
              "\n",
              "#sk-container-id-1 input.sk-toggleable__control:checked~label.sk-toggleable__label-arrow:before {\n",
              "  content: \"▾\";\n",
              "}\n",
              "\n",
              "/* Pipeline/ColumnTransformer-specific style */\n",
              "\n",
              "#sk-container-id-1 div.sk-label input.sk-toggleable__control:checked~label.sk-toggleable__label {\n",
              "  color: var(--sklearn-color-text);\n",
              "  background-color: var(--sklearn-color-unfitted-level-2);\n",
              "}\n",
              "\n",
              "#sk-container-id-1 div.sk-label.fitted input.sk-toggleable__control:checked~label.sk-toggleable__label {\n",
              "  background-color: var(--sklearn-color-fitted-level-2);\n",
              "}\n",
              "\n",
              "/* Estimator-specific style */\n",
              "\n",
              "/* Colorize estimator box */\n",
              "#sk-container-id-1 div.sk-estimator input.sk-toggleable__control:checked~label.sk-toggleable__label {\n",
              "  /* unfitted */\n",
              "  background-color: var(--sklearn-color-unfitted-level-2);\n",
              "}\n",
              "\n",
              "#sk-container-id-1 div.sk-estimator.fitted input.sk-toggleable__control:checked~label.sk-toggleable__label {\n",
              "  /* fitted */\n",
              "  background-color: var(--sklearn-color-fitted-level-2);\n",
              "}\n",
              "\n",
              "#sk-container-id-1 div.sk-label label.sk-toggleable__label,\n",
              "#sk-container-id-1 div.sk-label label {\n",
              "  /* The background is the default theme color */\n",
              "  color: var(--sklearn-color-text-on-default-background);\n",
              "}\n",
              "\n",
              "/* On hover, darken the color of the background */\n",
              "#sk-container-id-1 div.sk-label:hover label.sk-toggleable__label {\n",
              "  color: var(--sklearn-color-text);\n",
              "  background-color: var(--sklearn-color-unfitted-level-2);\n",
              "}\n",
              "\n",
              "/* Label box, darken color on hover, fitted */\n",
              "#sk-container-id-1 div.sk-label.fitted:hover label.sk-toggleable__label.fitted {\n",
              "  color: var(--sklearn-color-text);\n",
              "  background-color: var(--sklearn-color-fitted-level-2);\n",
              "}\n",
              "\n",
              "/* Estimator label */\n",
              "\n",
              "#sk-container-id-1 div.sk-label label {\n",
              "  font-family: monospace;\n",
              "  font-weight: bold;\n",
              "  display: inline-block;\n",
              "  line-height: 1.2em;\n",
              "}\n",
              "\n",
              "#sk-container-id-1 div.sk-label-container {\n",
              "  text-align: center;\n",
              "}\n",
              "\n",
              "/* Estimator-specific */\n",
              "#sk-container-id-1 div.sk-estimator {\n",
              "  font-family: monospace;\n",
              "  border: 1px dotted var(--sklearn-color-border-box);\n",
              "  border-radius: 0.25em;\n",
              "  box-sizing: border-box;\n",
              "  margin-bottom: 0.5em;\n",
              "  /* unfitted */\n",
              "  background-color: var(--sklearn-color-unfitted-level-0);\n",
              "}\n",
              "\n",
              "#sk-container-id-1 div.sk-estimator.fitted {\n",
              "  /* fitted */\n",
              "  background-color: var(--sklearn-color-fitted-level-0);\n",
              "}\n",
              "\n",
              "/* on hover */\n",
              "#sk-container-id-1 div.sk-estimator:hover {\n",
              "  /* unfitted */\n",
              "  background-color: var(--sklearn-color-unfitted-level-2);\n",
              "}\n",
              "\n",
              "#sk-container-id-1 div.sk-estimator.fitted:hover {\n",
              "  /* fitted */\n",
              "  background-color: var(--sklearn-color-fitted-level-2);\n",
              "}\n",
              "\n",
              "/* Specification for estimator info (e.g. \"i\" and \"?\") */\n",
              "\n",
              "/* Common style for \"i\" and \"?\" */\n",
              "\n",
              ".sk-estimator-doc-link,\n",
              "a:link.sk-estimator-doc-link,\n",
              "a:visited.sk-estimator-doc-link {\n",
              "  float: right;\n",
              "  font-size: smaller;\n",
              "  line-height: 1em;\n",
              "  font-family: monospace;\n",
              "  background-color: var(--sklearn-color-background);\n",
              "  border-radius: 1em;\n",
              "  height: 1em;\n",
              "  width: 1em;\n",
              "  text-decoration: none !important;\n",
              "  margin-left: 0.5em;\n",
              "  text-align: center;\n",
              "  /* unfitted */\n",
              "  border: var(--sklearn-color-unfitted-level-1) 1pt solid;\n",
              "  color: var(--sklearn-color-unfitted-level-1);\n",
              "}\n",
              "\n",
              ".sk-estimator-doc-link.fitted,\n",
              "a:link.sk-estimator-doc-link.fitted,\n",
              "a:visited.sk-estimator-doc-link.fitted {\n",
              "  /* fitted */\n",
              "  border: var(--sklearn-color-fitted-level-1) 1pt solid;\n",
              "  color: var(--sklearn-color-fitted-level-1);\n",
              "}\n",
              "\n",
              "/* On hover */\n",
              "div.sk-estimator:hover .sk-estimator-doc-link:hover,\n",
              ".sk-estimator-doc-link:hover,\n",
              "div.sk-label-container:hover .sk-estimator-doc-link:hover,\n",
              ".sk-estimator-doc-link:hover {\n",
              "  /* unfitted */\n",
              "  background-color: var(--sklearn-color-unfitted-level-3);\n",
              "  color: var(--sklearn-color-background);\n",
              "  text-decoration: none;\n",
              "}\n",
              "\n",
              "div.sk-estimator.fitted:hover .sk-estimator-doc-link.fitted:hover,\n",
              ".sk-estimator-doc-link.fitted:hover,\n",
              "div.sk-label-container:hover .sk-estimator-doc-link.fitted:hover,\n",
              ".sk-estimator-doc-link.fitted:hover {\n",
              "  /* fitted */\n",
              "  background-color: var(--sklearn-color-fitted-level-3);\n",
              "  color: var(--sklearn-color-background);\n",
              "  text-decoration: none;\n",
              "}\n",
              "\n",
              "/* Span, style for the box shown on hovering the info icon */\n",
              ".sk-estimator-doc-link span {\n",
              "  display: none;\n",
              "  z-index: 9999;\n",
              "  position: relative;\n",
              "  font-weight: normal;\n",
              "  right: .2ex;\n",
              "  padding: .5ex;\n",
              "  margin: .5ex;\n",
              "  width: min-content;\n",
              "  min-width: 20ex;\n",
              "  max-width: 50ex;\n",
              "  color: var(--sklearn-color-text);\n",
              "  box-shadow: 2pt 2pt 4pt #999;\n",
              "  /* unfitted */\n",
              "  background: var(--sklearn-color-unfitted-level-0);\n",
              "  border: .5pt solid var(--sklearn-color-unfitted-level-3);\n",
              "}\n",
              "\n",
              ".sk-estimator-doc-link.fitted span {\n",
              "  /* fitted */\n",
              "  background: var(--sklearn-color-fitted-level-0);\n",
              "  border: var(--sklearn-color-fitted-level-3);\n",
              "}\n",
              "\n",
              ".sk-estimator-doc-link:hover span {\n",
              "  display: block;\n",
              "}\n",
              "\n",
              "/* \"?\"-specific style due to the `<a>` HTML tag */\n",
              "\n",
              "#sk-container-id-1 a.estimator_doc_link {\n",
              "  float: right;\n",
              "  font-size: 1rem;\n",
              "  line-height: 1em;\n",
              "  font-family: monospace;\n",
              "  background-color: var(--sklearn-color-background);\n",
              "  border-radius: 1rem;\n",
              "  height: 1rem;\n",
              "  width: 1rem;\n",
              "  text-decoration: none;\n",
              "  /* unfitted */\n",
              "  color: var(--sklearn-color-unfitted-level-1);\n",
              "  border: var(--sklearn-color-unfitted-level-1) 1pt solid;\n",
              "}\n",
              "\n",
              "#sk-container-id-1 a.estimator_doc_link.fitted {\n",
              "  /* fitted */\n",
              "  border: var(--sklearn-color-fitted-level-1) 1pt solid;\n",
              "  color: var(--sklearn-color-fitted-level-1);\n",
              "}\n",
              "\n",
              "/* On hover */\n",
              "#sk-container-id-1 a.estimator_doc_link:hover {\n",
              "  /* unfitted */\n",
              "  background-color: var(--sklearn-color-unfitted-level-3);\n",
              "  color: var(--sklearn-color-background);\n",
              "  text-decoration: none;\n",
              "}\n",
              "\n",
              "#sk-container-id-1 a.estimator_doc_link.fitted:hover {\n",
              "  /* fitted */\n",
              "  background-color: var(--sklearn-color-fitted-level-3);\n",
              "}\n",
              "</style><div id=\"sk-container-id-1\" class=\"sk-top-container\"><div class=\"sk-text-repr-fallback\"><pre>DBSCAN(min_samples=20)</pre><b>In a Jupyter environment, please rerun this cell to show the HTML representation or trust the notebook. <br />On GitHub, the HTML representation is unable to render, please try loading this page with nbviewer.org.</b></div><div class=\"sk-container\" hidden><div class=\"sk-item\"><div class=\"sk-estimator fitted sk-toggleable\"><input class=\"sk-toggleable__control sk-hidden--visually\" id=\"sk-estimator-id-1\" type=\"checkbox\" checked><label for=\"sk-estimator-id-1\" class=\"sk-toggleable__label fitted sk-toggleable__label-arrow\"><div><div>DBSCAN</div></div><div><a class=\"sk-estimator-doc-link fitted\" rel=\"noreferrer\" target=\"_blank\" href=\"https://scikit-learn.org/1.6/modules/generated/sklearn.cluster.DBSCAN.html\">?<span>Documentation for DBSCAN</span></a><span class=\"sk-estimator-doc-link fitted\">i<span>Fitted</span></span></div></label><div class=\"sk-toggleable__content fitted\"><pre>DBSCAN(min_samples=20)</pre></div> </div></div></div></div>"
            ]
          },
          "metadata": {},
          "execution_count": 22
        }
      ]
    },
    {
      "cell_type": "code",
      "source": [
        "print(dbscan.labels_.min(), dbscan.labels_.max())"
      ],
      "metadata": {
        "colab": {
          "base_uri": "https://localhost:8080/"
        },
        "id": "SRs6OPyqyCZz",
        "outputId": "549c7af4-8914-477e-ceb0-7dda7a2f200b"
      },
      "execution_count": null,
      "outputs": [
        {
          "output_type": "stream",
          "name": "stdout",
          "text": [
            "-1 9\n"
          ]
        }
      ]
    },
    {
      "cell_type": "code",
      "source": [
        "i = 0.6\n",
        "\n",
        "dbscan = DBSCAN(eps=.5, min_samples=20)\n",
        "dbscan.fit(scaled_data)\n",
        "\n",
        "while dbscan.labels_.max() > 2:\n",
        "    i += 0.1\n",
        "    dbscan = DBSCAN(eps=i, min_samples=20)\n",
        "    dbscan.fit(scaled_data)\n",
        "    print(i, dbscan.labels_.min(), dbscan.labels_.max())"
      ],
      "metadata": {
        "colab": {
          "base_uri": "https://localhost:8080/"
        },
        "id": "kQlKp3YtgwaO",
        "outputId": "ef218d24-cd33-46d5-8e7c-4bca300af404"
      },
      "execution_count": null,
      "outputs": [
        {
          "output_type": "stream",
          "name": "stdout",
          "text": [
            "0.7 -1 12\n",
            "0.7999999999999999 -1 12\n",
            "0.8999999999999999 -1 13\n",
            "0.9999999999999999 -1 14\n",
            "1.0999999999999999 -1 13\n",
            "1.2 -1 15\n",
            "1.3 -1 16\n",
            "1.4000000000000001 -1 16\n",
            "1.5000000000000002 -1 17\n",
            "1.6000000000000003 -1 17\n",
            "1.7000000000000004 -1 17\n",
            "1.8000000000000005 -1 17\n",
            "1.9000000000000006 -1 17\n",
            "2.0000000000000004 -1 17\n",
            "2.1000000000000005 -1 15\n",
            "2.2000000000000006 -1 15\n",
            "2.3000000000000007 -1 15\n",
            "2.400000000000001 -1 15\n",
            "2.500000000000001 -1 14\n",
            "2.600000000000001 -1 15\n",
            "2.700000000000001 -1 16\n",
            "2.800000000000001 -1 17\n",
            "2.9000000000000012 -1 17\n",
            "3.0000000000000013 -1 16\n",
            "3.1000000000000014 -1 15\n",
            "3.2000000000000015 -1 13\n",
            "3.3000000000000016 -1 14\n",
            "3.4000000000000017 -1 11\n",
            "3.5000000000000018 -1 10\n",
            "3.600000000000002 -1 10\n",
            "3.700000000000002 -1 10\n",
            "3.800000000000002 -1 9\n",
            "3.900000000000002 -1 8\n",
            "4.000000000000002 -1 7\n",
            "4.100000000000001 -1 5\n",
            "4.200000000000001 -1 3\n",
            "4.300000000000001 -1 3\n",
            "4.4 -1 3\n",
            "4.5 -1 3\n",
            "4.6 -1 3\n",
            "4.699999999999999 -1 2\n"
          ]
        }
      ]
    },
    {
      "cell_type": "code",
      "source": [
        "j = 20\n",
        "\n",
        "dbscan = DBSCAN(eps=4.7, min_samples=20)\n",
        "dbscan.fit(scaled_data)\n",
        "\n",
        "\n",
        "while dbscan.labels_.min() < 0 :\n",
        "      j -= 1\n",
        "      dbscan = DBSCAN(eps=4.9, min_samples=j)\n",
        "      dbscan.fit(scaled_data)\n",
        "      print(j, dbscan.labels_.min(), dbscan.labels_.max())"
      ],
      "metadata": {
        "colab": {
          "base_uri": "https://localhost:8080/"
        },
        "id": "rw8lAf9_jBSx",
        "outputId": "91e7d480-79bc-4ead-e95d-0c55fc374c11"
      },
      "execution_count": null,
      "outputs": [
        {
          "output_type": "stream",
          "name": "stdout",
          "text": [
            "19 0 2\n"
          ]
        }
      ]
    },
    {
      "cell_type": "code",
      "source": [
        "dbscan = DBSCAN(eps=4.9, min_samples=19)\n",
        "dbscan.fit(scaled_data)\n",
        "\n",
        "print(dbscan.labels_.min(), dbscan.labels_.max())"
      ],
      "metadata": {
        "colab": {
          "base_uri": "https://localhost:8080/"
        },
        "id": "awVn7av-hO6N",
        "outputId": "4b0cb05f-e5ad-4605-f768-a632071bc75a"
      },
      "execution_count": null,
      "outputs": [
        {
          "output_type": "stream",
          "name": "stdout",
          "text": [
            "0 2\n"
          ]
        }
      ]
    },
    {
      "cell_type": "code",
      "source": [
        "scaled_data_df['cluster DBSCAN'] = dbscan.labels_"
      ],
      "metadata": {
        "id": "sl7VAxVCylE5"
      },
      "execution_count": null,
      "outputs": []
    },
    {
      "cell_type": "code",
      "source": [
        "print(\"Conteo de pacientes en cada clúster:\")\n",
        "print(scaled_data_df['cluster DBSCAN'].value_counts())"
      ],
      "metadata": {
        "colab": {
          "base_uri": "https://localhost:8080/"
        },
        "id": "XLmprgkLzrq6",
        "outputId": "a3b95c67-c8c1-4537-d342-17e88b13d10d"
      },
      "execution_count": null,
      "outputs": [
        {
          "output_type": "stream",
          "name": "stdout",
          "text": [
            "Conteo de pacientes en cada clúster:\n",
            "cluster DBSCAN\n",
            "0    860\n",
            "1     70\n",
            "2     70\n",
            "Name: count, dtype: int64\n"
          ]
        }
      ]
    },
    {
      "cell_type": "code",
      "source": [
        "conf_matrix = confusion_matrix(scaled_data_df['cluster DBSCAN'], cancer_data['Level_encoded'])"
      ],
      "metadata": {
        "id": "dQpDLvoSzBuP"
      },
      "execution_count": null,
      "outputs": []
    },
    {
      "cell_type": "code",
      "source": [
        "# Invertir la matriz de confusión para maximizar la precisión\n",
        "row_ind, col_ind = linear_sum_assignment(-conf_matrix)\n",
        "\n",
        "# Crear un mapeo óptimo\n",
        "mapping = dict(zip(col_ind, row_ind))"
      ],
      "metadata": {
        "id": "_TiKrbeVzJ0K"
      },
      "execution_count": null,
      "outputs": []
    },
    {
      "cell_type": "code",
      "source": [
        "# Ajustar las etiquetas generadas por K-means con la correspondencia óptima\n",
        "y_pred_mapped = np.array([mapping[label] for label in cancer_data['Level_encoded']])"
      ],
      "metadata": {
        "id": "QcLy5_vTzKLP"
      },
      "execution_count": null,
      "outputs": []
    },
    {
      "cell_type": "code",
      "source": [
        "accuracy = accuracy_score(scaled_data_df['cluster DBSCAN'], y_pred_mapped)\n",
        "print(f\"Precisión después de la correspondencia óptima: {accuracy:.2f}\")"
      ],
      "metadata": {
        "colab": {
          "base_uri": "https://localhost:8080/"
        },
        "id": "vfcXPJFHzNgk",
        "outputId": "a805fd6a-c029-46fe-ce5f-97dfcce6799f"
      },
      "execution_count": null,
      "outputs": [
        {
          "output_type": "stream",
          "name": "stdout",
          "text": [
            "Precisión después de la correspondencia óptima: 0.44\n"
          ]
        }
      ]
    },
    {
      "cell_type": "code",
      "source": [
        "labels = ['Low', 'Medium', 'High']\n",
        "\n",
        "# Mostrar la matriz de confusión con etiquetas personalizadas\n",
        "disp = ConfusionMatrixDisplay(confusion_matrix=conf_matrix, display_labels=labels)\n",
        "disp.plot(cmap='Blues')"
      ],
      "metadata": {
        "colab": {
          "base_uri": "https://localhost:8080/",
          "height": 468
        },
        "id": "aOS9bgf9zQ0j",
        "outputId": "bae5f36a-8ad7-4d52-d0ca-ce6e12eed7d7"
      },
      "execution_count": null,
      "outputs": [
        {
          "output_type": "execute_result",
          "data": {
            "text/plain": [
              "<sklearn.metrics._plot.confusion_matrix.ConfusionMatrixDisplay at 0x7969e3960610>"
            ]
          },
          "metadata": {},
          "execution_count": 33
        },
        {
          "output_type": "display_data",
          "data": {
            "text/plain": [
              "<Figure size 640x480 with 2 Axes>"
            ],
            "image/png": "[encoded data removed]"
          },
          "metadata": {}
        }
      ]
    },
    {
      "cell_type": "code",
      "source": [
        "report = classification_report(scaled_data_df['cluster DBSCAN'], cancer_data['Level_encoded'])\n",
        "print(\"Reporte de clasificación:\\n\", report)"
      ],
      "metadata": {
        "id": "wRNH-OP2VDx_",
        "outputId": "326ed259-97f3-4e2e-c584-edd1382d8cbd",
        "colab": {
          "base_uri": "https://localhost:8080/"
        }
      },
      "execution_count": null,
      "outputs": [
        {
          "output_type": "stream",
          "name": "stdout",
          "text": [
            "Reporte de clasificación:\n",
            "               precision    recall  f1-score   support\n",
            "\n",
            "           0       0.81      0.34      0.48       860\n",
            "           1       0.00      0.00      0.00        70\n",
            "           2       0.21      1.00      0.35        70\n",
            "\n",
            "    accuracy                           0.36      1000\n",
            "   macro avg       0.34      0.45      0.28      1000\n",
            "weighted avg       0.71      0.36      0.44      1000\n",
            "\n"
          ]
        }
      ]
    },
    {
      "cell_type": "code",
      "source": [],
      "metadata": {
        "id": "xqPC9DxEVF6f"
      },
      "execution_count": null,
      "outputs": []
    }
  ]
}