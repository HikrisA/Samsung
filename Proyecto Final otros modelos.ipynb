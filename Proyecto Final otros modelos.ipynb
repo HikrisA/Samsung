{
 "cells": [
  {
   "cell_type": "code",
   "execution_count": 1,
   "metadata": {},
   "outputs": [],
   "source": [
    "import os\n",
    "import cv2\n",
    "import numpy as np\n",
    "from sklearn.model_selection import train_test_split, GridSearchCV\n",
    "from sklearn import svm\n",
    "from sklearn.svm import SVC\n",
    "from sklearn.metrics import accuracy_score, confusion_matrix, classification_report\n",
    "from sklearn.linear_model import LogisticRegression\n",
    "import seaborn as sns\n",
    "import matplotlib.pyplot as plt"
   ]
  },
  {
   "cell_type": "code",
   "execution_count": null,
   "metadata": {},
   "outputs": [
    {
     "name": "stdout",
     "output_type": "stream",
     "text": [
      "Tamaño de train: 12000, Tamaño de test: 3000\n"
     ]
    }
   ],
   "source": [
    "# Windows\n",
    "\n",
    "def creacion_dataset(folder):\n",
    "    \n",
    "    imagenes = []\n",
    "    etiquetas = []\n",
    "    etiquetas_clases = os.listdir(folder)\n",
    "    \n",
    "    for etiqueta in etiquetas_clases:\n",
    "        \n",
    "        class_path = os.path.join(folder, etiqueta)\n",
    "        if not os.path.isdir(class_path):\n",
    "            continue\n",
    "        \n",
    "        for img_name in os.listdir(class_path):\n",
    "            img_path = os.path.join(class_path, img_name)\n",
    "            img = cv2.imread(img_path)\n",
    "            if img is not None:\n",
    "                img = cv2.resize(img, (64, 64)) # Redimensionamos la imagen\n",
    "                img = cv2.cvtColor(img, cv2.COLOR_BGR2GRAY) # Convertimos a escala de grises\n",
    "                img = img.astype(\"float32\") / 255.0 # \"Normalizamos\" el arreglo dividiendo entre 255\n",
    "                imagenes.append(img.flatten())\n",
    "                etiquetas.append(etiqueta)\n",
    "                \n",
    "    return np.array(imagenes), np.array(etiquetas)\n",
    "\n",
    "X, Y = creacion_dataset('C:\\\\Users\\\\Felipe\\\\Desktop\\\\Samsung\\\\PF\\\\Data_set')\n",
    "\n",
    "X_train, X_test, Y_train, Y_test = train_test_split(X, Y, test_size=0.2, random_state=42)\n",
    "\n",
    "print(f'Tamaño de train: {len(X_train)}, Tamaño de test: {len(X_test)}')"
   ]
  },
  {
   "cell_type": "code",
   "execution_count": 3,
   "metadata": {},
   "outputs": [
    {
     "name": "stdout",
     "output_type": "stream",
     "text": [
      "Tamaño de train: 12000, Tamaño de test: 3000\n"
     ]
    }
   ],
   "source": [
    "# Linux\n",
    "\n",
    "def creacion_dataset(folder):\n",
    "    \n",
    "    imagenes = []\n",
    "    etiquetas = []\n",
    "    etiquetas_clases = os.listdir(folder)\n",
    "    \n",
    "    for etiqueta in etiquetas_clases:\n",
    "        \n",
    "        class_path = os.path.join(folder, etiqueta)\n",
    "        if not os.path.isdir(class_path):\n",
    "            continue\n",
    "        \n",
    "        for img_name in os.listdir(class_path):\n",
    "            img_path = os.path.join(class_path, img_name)\n",
    "            img = cv2.imread(img_path)\n",
    "            if img is not None:\n",
    "                img = cv2.resize(img, (64, 64)) # Redimensionamos la imagen\n",
    "                img = cv2.cvtColor(img, cv2.COLOR_BGR2GRAY) # Convertimos a escala de grises\n",
    "                img = img.astype(\"float32\") / 255.0 # \"Normalizamos\" el arreglo dividiendo entre 255\n",
    "                imagenes.append(img.flatten())\n",
    "                etiquetas.append(etiqueta)\n",
    "                \n",
    "    return np.array(imagenes), np.array(etiquetas)\n",
    "\n",
    "X, Y = creacion_dataset('/home/javia/Samsung/PF/Data_set')\n",
    "\n",
    "X_train, X_test, Y_train, Y_test = train_test_split(X, Y, test_size=0.2, random_state=42)\n",
    "\n",
    "print(f'Tamaño de train: {len(X_train)}, Tamaño de test: {len(X_test)}')"
   ]
  },
  {
   "cell_type": "code",
   "execution_count": 22,
   "metadata": {},
   "outputs": [
    {
     "name": "stdout",
     "output_type": "stream",
     "text": [
      "Best C: 10\n",
      "Best kernel: rbf\n",
      "Precisión con el mejor C y kernel: 0.88\n"
     ]
    }
   ],
   "source": [
    "param_grid = {'C': [0.1, 1, 10, 100], \"kernel\":[\"linear\", \"rbf\", \"poly\"]}\n",
    "\n",
    "# Usar GridSearchCV para encontrar el mejor valor de C\n",
    "grid_search = GridSearchCV(svm_model, param_grid, cv=5)  # 5-fold cross-validation\n",
    "grid_search.fit(X_train, Y_train)\n",
    "\n",
    "# Ver el mejor valor de C\n",
    "print(f'Best C: {grid_search.best_params_[\"C\"]}')\n",
    "print(f'Best kernel: {grid_search.best_params_[\"kernel\"]}')\n",
    "\n",
    "# Evaluar el modelo con el mejor C\n",
    "best_svm_model = grid_search.best_estimator_\n",
    "y_pred = best_svm_model.predict(X_test)\n",
    "accuracy = accuracy_score(Y_test, y_pred)\n",
    "print(f'Precisión con el mejor C y kernel: {accuracy:.2f}')"
   ]
  },
  {
   "cell_type": "code",
   "execution_count": 9,
   "metadata": {},
   "outputs": [
    {
     "name": "stdout",
     "output_type": "stream",
     "text": [
      "Precisión con el mejor C y kernel: 0.88\n"
     ]
    }
   ],
   "source": [
    "mejor_svm = SVC(kernel = \"rbf\", C=10)\n",
    "mejor_svm.fit(X_train, Y_train)\n",
    "\n",
    "y_pred = mejor_svm.predict(X_test)\n",
    "accuracy = accuracy_score(Y_test, y_pred)\n",
    "print(f'Precisión con el mejor C y kernel: {accuracy:.2f}')"
   ]
  },
  {
   "cell_type": "code",
   "execution_count": 10,
   "metadata": {},
   "outputs": [
    {
     "data": {
      "image/png": "[encoded data removed]",
      "text/plain": [
       "<Figure size 640x480 with 2 Axes>"
      ]
     },
     "metadata": {},
     "output_type": "display_data"
    }
   ],
   "source": [
    "# Crear la matriz de confusión\n",
    "cm = confusion_matrix(Y_test, y_pred)\n",
    "\n",
    "# Visualizarla con seaborn\n",
    "sns.heatmap(cm, annot=True, fmt=\"d\", cmap=\"Blues\")\n",
    "plt.xlabel(\"Predicho\")\n",
    "plt.ylabel(\"Verdadero\")\n",
    "plt.title(\"Matriz de Confusión\")\n",
    "plt.show()"
   ]
  },
  {
   "cell_type": "code",
   "execution_count": 11,
   "metadata": {},
   "outputs": [
    {
     "name": "stdout",
     "output_type": "stream",
     "text": [
      "                     precision    recall  f1-score   support\n",
      "\n",
      "lung_adenocarcinoma       0.85      0.80      0.82      1037\n",
      "       lung_benigno       0.89      0.95      0.92       970\n",
      "     lung_carcinoma       0.89      0.89      0.89       993\n",
      "\n",
      "           accuracy                           0.88      3000\n",
      "          macro avg       0.88      0.88      0.88      3000\n",
      "       weighted avg       0.87      0.88      0.87      3000\n",
      "\n"
     ]
    }
   ],
   "source": [
    "print(classification_report(Y_test, y_pred))"
   ]
  },
  {
   "cell_type": "code",
   "execution_count": null,
   "metadata": {},
   "outputs": [
    {
     "name": "stderr",
     "output_type": "stream",
     "text": [
      "/usr/lib/python3/dist-packages/sklearn/linear_model/_sag.py:350: ConvergenceWarning: The max_iter was reached which means the coef_ did not converge\n",
      "  warnings.warn(\n",
      "/usr/lib/python3/dist-packages/sklearn/linear_model/_sag.py:350: ConvergenceWarning: The max_iter was reached which means the coef_ did not converge\n",
      "  warnings.warn(\n",
      "/usr/lib/python3/dist-packages/sklearn/linear_model/_sag.py:350: ConvergenceWarning: The max_iter was reached which means the coef_ did not converge\n",
      "  warnings.warn(\n",
      "/usr/lib/python3/dist-packages/sklearn/linear_model/_sag.py:350: ConvergenceWarning: The max_iter was reached which means the coef_ did not converge\n",
      "  warnings.warn(\n",
      "/usr/lib/python3/dist-packages/sklearn/linear_model/_sag.py:350: ConvergenceWarning: The max_iter was reached which means the coef_ did not converge\n",
      "  warnings.warn(\n",
      "/usr/lib/python3/dist-packages/sklearn/model_selection/_validation.py:547: FitFailedWarning: \n",
      "75 fits failed out of a total of 150.\n",
      "The score on these train-test partitions for these parameters will be set to nan.\n",
      "If these failures are not expected, you can try to debug them by setting error_score='raise'.\n",
      "\n",
      "Below are more details about the failures:\n",
      "--------------------------------------------------------------------------------\n",
      "75 fits failed with the following error:\n",
      "Traceback (most recent call last):\n",
      "  File \"/usr/lib/python3/dist-packages/sklearn/model_selection/_validation.py\", line 895, in _fit_and_score\n",
      "    estimator.fit(X_train, y_train, **fit_params)\n",
      "  File \"/usr/lib/python3/dist-packages/sklearn/base.py\", line 1467, in wrapper\n",
      "    estimator._validate_params()\n",
      "  File \"/usr/lib/python3/dist-packages/sklearn/base.py\", line 666, in _validate_params\n",
      "    validate_parameter_constraints(\n",
      "  File \"/usr/lib/python3/dist-packages/sklearn/utils/_param_validation.py\", line 95, in validate_parameter_constraints\n",
      "    raise InvalidParameterError(\n",
      "sklearn.utils._param_validation.InvalidParameterError: The 'penalty' parameter of LogisticRegression must be a str among {'elasticnet', 'l2', 'l1'} or None. Got 'none' instead.\n",
      "\n",
      "  warnings.warn(some_fits_failed_message, FitFailedWarning)\n",
      "/usr/lib/python3/dist-packages/sklearn/model_selection/_search.py:1051: UserWarning: One or more of the test scores are non-finite: [0.555      0.68691667 0.68516667        nan        nan        nan\n",
      " 0.61308333 0.66325    0.66008333        nan        nan        nan\n",
      " 0.60333333 0.6225     0.59858333        nan        nan        nan\n",
      " 0.57633333 0.59958333 0.59041667        nan        nan        nan\n",
      " 0.56633333 0.59533333 0.59066667        nan        nan        nan]\n",
      "  warnings.warn(\n"
     ]
    },
    {
     "ename": "NameError",
     "evalue": "name 'grid_search' is not defined",
     "output_type": "error",
     "traceback": [
      "\u001b[0;31m---------------------------------------------------------------------------\u001b[0m",
      "\u001b[0;31mNameError\u001b[0m                                 Traceback (most recent call last)",
      "Cell \u001b[0;32mIn[5], line 10\u001b[0m\n\u001b[1;32m      7\u001b[0m grid_search_lrm\u001b[38;5;241m.\u001b[39mfit(X_train, Y_train)\n\u001b[1;32m      9\u001b[0m \u001b[38;5;66;03m# Mejor modelo y sus parámetros\u001b[39;00m\n\u001b[0;32m---> 10\u001b[0m \u001b[38;5;28mprint\u001b[39m(\u001b[38;5;124m\"\u001b[39m\u001b[38;5;124mMejores parámetros encontrados: \u001b[39m\u001b[38;5;124m\"\u001b[39m, \u001b[43mgrid_search\u001b[49m\u001b[38;5;241m.\u001b[39mbest_params_)\n\u001b[1;32m     11\u001b[0m \u001b[38;5;28mprint\u001b[39m(\u001b[38;5;124m\"\u001b[39m\u001b[38;5;124mMejor precisión obtenida: \u001b[39m\u001b[38;5;124m\"\u001b[39m, grid_search\u001b[38;5;241m.\u001b[39mbest_score_)\n\u001b[1;32m     13\u001b[0m \u001b[38;5;66;03m# Mejor modelo y sus parámetros\u001b[39;00m\n",
      "\u001b[0;31mNameError\u001b[0m: name 'grid_search' is not defined"
     ]
    }
   ],
   "source": [
    "log_reg = LogisticRegression(max_iter=3000)\n",
    "\n",
    "param_grid = {\"C\": [0.01, 0.1, 1, 10, 100], \"penalty\": [\"l2\", \"none\"], \"solver\":[\"liblinear\", \"lbfgs\", \"saga\"]}\n",
    "\n",
    "grid_search_lrm = GridSearchCV(estimator=log_reg, param_grid=param_grid, cv=5, scoring=\"accuracy\")\n",
    "\n",
    "grid_search_lrm.fit(X_train, Y_train)"
   ]
  },
  {
   "cell_type": "code",
   "execution_count": 8,
   "metadata": {},
   "outputs": [
    {
     "name": "stdout",
     "output_type": "stream",
     "text": [
      "Mejores parámetros encontrados:  {'C': 0.01, 'penalty': 'l2', 'solver': 'lbfgs'}\n",
      "Mejor precisión obtenida:  0.6869166666666666\n"
     ]
    }
   ],
   "source": [
    "# Mejor modelo y sus parámetros\n",
    "print(\"Mejores parámetros encontrados: \", grid_search_lrm.best_params_)\n",
    "print(\"Mejor precisión obtenida: \", grid_search_lrm.best_score_)"
   ]
  },
  {
   "cell_type": "code",
   "execution_count": 9,
   "metadata": {},
   "outputs": [
    {
     "name": "stdout",
     "output_type": "stream",
     "text": [
      "Precisión con el mejor C, penalty y solver: 0.68\n"
     ]
    }
   ],
   "source": [
    "mejor_lr = LogisticRegression(max_iter=3000, C=0.01, penalty=\"l2\", solver=\"lbfgs\")\n",
    "mejor_lr.fit(X_train, Y_train)\n",
    "\n",
    "y_pred = mejor_lr.predict(X_test)\n",
    "accuracy = accuracy_score(Y_test, y_pred)\n",
    "print(f'Precisión con el mejor C, penalty y solver: {accuracy:.2f}')"
   ]
  },
  {
   "cell_type": "code",
   "execution_count": 10,
   "metadata": {},
   "outputs": [
    {
     "data": {
      "image/png": "[encoded data removed]",
      "text/plain": [
       "<Figure size 640x480 with 2 Axes>"
      ]
     },
     "metadata": {},
     "output_type": "display_data"
    }
   ],
   "source": [
    "# Crear la matriz de confusión\n",
    "cm = confusion_matrix(Y_test, y_pred)\n",
    "\n",
    "# Visualizarla con seaborn\n",
    "sns.heatmap(cm, annot=True, fmt=\"d\", cmap=\"Blues\")\n",
    "plt.xlabel(\"Predicho\")\n",
    "plt.ylabel(\"Verdadero\")\n",
    "plt.title(\"Matriz de Confusión\")\n",
    "plt.show()"
   ]
  },
  {
   "cell_type": "code",
   "execution_count": 11,
   "metadata": {},
   "outputs": [
    {
     "name": "stdout",
     "output_type": "stream",
     "text": [
      "                     precision    recall  f1-score   support\n",
      "\n",
      "lung_adenocarcinoma       0.58      0.47      0.52      1037\n",
      "        lung_begino       0.80      0.90      0.85       970\n",
      "     lung_carcinoma       0.64      0.68      0.66       993\n",
      "\n",
      "           accuracy                           0.68      3000\n",
      "          macro avg       0.67      0.69      0.68      3000\n",
      "       weighted avg       0.67      0.68      0.67      3000\n",
      "\n"
     ]
    }
   ],
   "source": [
    "print(classification_report(Y_test, y_pred))"
   ]
  },
  {
   "cell_type": "code",
   "execution_count": 34,
   "metadata": {},
   "outputs": [],
   "source": [
    "img = cv2.imread('C:\\\\Users\\\\Felipe\\\\Desktop\\\\Samsung\\\\PF\\\\Imagenes de prueba\\\\ben1.png')\n",
    "img = cv2.resize(img, (64, 64)) # Redimensionamos la imagen\n",
    "img = cv2.cvtColor(img, cv2.COLOR_BGR2GRAY) # Convertimos a escala de grises\n",
    "img = img.astype(\"float32\") / 255.0 # \"Normalizamos\" el arreglo dividiendo entre 255\n",
    "img = img.flatten()"
   ]
  },
  {
   "cell_type": "code",
   "execution_count": 35,
   "metadata": {},
   "outputs": [
    {
     "data": {
      "text/plain": [
       "array(['lung_benigno'], dtype='<U19')"
      ]
     },
     "execution_count": 35,
     "metadata": {},
     "output_type": "execute_result"
    }
   ],
   "source": [
    "mejor_svm.predict([img])"
   ]
  }
 ],
 "metadata": {
  "kernelspec": {
   "display_name": "Python 3",
   "language": "python",
   "name": "python3"
  },
  "language_info": {
   "codemirror_mode": {
    "name": "ipython",
    "version": 3
   },
   "file_extension": ".py",
   "mimetype": "text/x-python",
   "name": "python",
   "nbconvert_exporter": "python",
   "pygments_lexer": "ipython3",
   "version": "3.12.3"
  }
 },
 "nbformat": 4,
 "nbformat_minor": 2
}
